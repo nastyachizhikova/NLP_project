{
  "cells": [
    {
      "cell_type": "code",
      "source": [
        "!wget https://raw.githubusercontent.com/named-entity/hse-nlp/master/4th_year/Project/train_aspects.txt\n",
        "!wget https://raw.githubusercontent.com/named-entity/hse-nlp/master/4th_year/Project/train_cats.txt\n",
        "!wget https://raw.githubusercontent.com/named-entity/hse-nlp/master/4th_year/Project/train_reviews.txt\n",
        "\n",
        "!wget https://raw.githubusercontent.com/named-entity/hse-nlp/master/4th_year/Project/train_split_aspects.txt\n",
        "!wget https://raw.githubusercontent.com/named-entity/hse-nlp/master/4th_year/Project/train_split_reviews.txt\n",
        "!wget https://raw.githubusercontent.com/named-entity/hse-nlp/master/4th_year/Project/train_split_cats.txt\n",
        "\n",
        "!wget https://raw.githubusercontent.com/named-entity/hse-nlp/master/4th_year/Project/dev_cats.txt\n",
        "!wget https://raw.githubusercontent.com/named-entity/hse-nlp/master/4th_year/Project/dev_reviews.txt\n",
        "!wget https://raw.githubusercontent.com/named-entity/hse-nlp/master/4th_year/Project/dev_aspects.txt\n",
        "\n",
        "\n"
      ],
      "metadata": {
        "id": "OnL9Szvk_gjr"
      },
      "id": "OnL9Szvk_gjr",
      "execution_count": null,
      "outputs": []
    },
    {
      "cell_type": "code",
      "source": [
        "!pip install pymorphy2\n",
        "!pip install transformers\n",
        "!pip install pytextspan"
      ],
      "metadata": {
        "id": "y-R56VuF4YQ1"
      },
      "id": "y-R56VuF4YQ1",
      "execution_count": null,
      "outputs": []
    },
    {
      "cell_type": "code",
      "execution_count": 3,
      "id": "87bcfc14",
      "metadata": {
        "colab": {
          "base_uri": "https://localhost:8080/",
          "height": 281,
          "referenced_widgets": [
            "7604aeebf9064e87a8e1519ec4a3da06",
            "1baa3c4465354a4193efdab938648a10",
            "26aaf8619bfc4b01b85ea679d320fa5c",
            "e3a2e8d78be942a38db2d96cc6a1dcb4",
            "f4966001186d467089aeb2bd87b44924",
            "2a0154e9fc5e4e07b5839b770de0e9ab",
            "5a43e450c7934a819c8975aa21f5222d",
            "032ddf96893c473fb42e020e08bc04af",
            "e9418b8ad9644c19a669987a4bdcd8be",
            "b0201625381d4f388181bd15989e3aca",
            "f7bec246ec9340249fa63276d92a6409",
            "0f21d922f828455eb392d6fb975f39db",
            "629872fc52574ee38332e913050fe539",
            "a8ff61e06aee4644b8b01a2e434805db",
            "380bf740fd3542759b0136054db2909d",
            "fb85afefd7aa4188b8c3a5782bda58e3",
            "502779f964e54a9f9dc70e87fa8bb6d2",
            "e83df6f26272435485fcc8e9980b15dc",
            "ff1597649e6a4cb998f92519afb4080a",
            "bef5fdceed294c938b2419e00164a265",
            "a2240449ad2e4ebc964bc1126021e217",
            "f347a54910764286b5f9e813c1c2a966",
            "df63f46509584096825cce350b40b3d1",
            "35bd7a8068ba4a2090f9c877586e4e85",
            "47077c782b4146a1aee235e8237ce7d4",
            "d8582564d0a1405485e452c405259534",
            "fd710be4c8a34744ac29283cf74df6ef",
            "be8cf160a4c747c68f5f65ab770bbc77",
            "84d4c1dfd9da466baf9363cf57bb5d14",
            "e5595f0544034a289551c12c998ce68c",
            "d424e8cb0385459eb9d4d66a4932ee2e",
            "9415ba9f4f5142279328e9c9ec3d440e",
            "a32277b319514c259b33c0781cc24c9a",
            "f7bc462612ca44fbb92d2a8bced4e962",
            "c1f88dfbaf43416bb93a1a5355424011",
            "e8b2d74188b74bbdbe481440a58b3b1c",
            "47c52a120cd54054a11c30c3a909f369",
            "0314cdd611204fd0b93f8b80ca1a8a43",
            "2db676a8f09c49ad86143a8fb262c427",
            "622d85b3cf884251a352a976f4a809f0",
            "19d8d2bdf2ad485cb1b473acf6ae1305",
            "5e0e858df182432bba3431129f9d61e6",
            "0da1f56238f04665a63ea4630b16815a",
            "5b64e1eb6bec4280be8cc045a4890c72",
            "ae4c2e116b744e358704284e39b48d54",
            "d06445c425d342c29c82be6c4f074dbf",
            "3dd98a22001c4ba582af1815e55293f2",
            "c3ea677cf5134c2980f8e43029abd7ca",
            "6b5af4628ef3472ebf8cb1046ad59303",
            "a0c46736d1294f96a58ac0f87fcff3a4",
            "a26e1d62083749aa9c8c621fa7fe5848",
            "79c2406a19d640fbbe28109727924356",
            "e74e5e4e95aa4a8bb15f2c893bbc1672",
            "f3ed522f03f241cda5261309d3923caa",
            "9a29acc423324c158e704b811b34448b",
            "07aae8be99c7422b94bf400f1e9a2d8d",
            "fec31a5d23ea4237ab1729f60ee3adff",
            "a2a105b71a124205b643106de533d75d",
            "14156ae369094019876681f23a6f9fa0",
            "4aa7ded0821644c7b447e867701af662",
            "09565fccb1a74f34ae65498d50f721df",
            "9de9f789e08f4a3584c31bdf57feaae8",
            "243d6eb3b97d4c92b3301107a22ed9ae",
            "c431952883bb45f9878804b618d636c7",
            "427005f606984f649aa6e2720f481cc4",
            "e1193e0f8eb64b9c8a97a072b0368855"
          ]
        },
        "id": "87bcfc14",
        "outputId": "4f683016-a6d5-4206-a76e-ae541077fa83"
      },
      "outputs": [
        {
          "output_type": "display_data",
          "data": {
            "application/vnd.jupyter.widget-view+json": {
              "model_id": "7604aeebf9064e87a8e1519ec4a3da06",
              "version_minor": 0,
              "version_major": 2
            },
            "text/plain": [
              "Downloading:   0%|          | 0.00/341 [00:00<?, ?B/s]"
            ]
          },
          "metadata": {}
        },
        {
          "output_type": "display_data",
          "data": {
            "application/vnd.jupyter.widget-view+json": {
              "model_id": "0f21d922f828455eb392d6fb975f39db",
              "version_minor": 0,
              "version_major": 2
            },
            "text/plain": [
              "Downloading:   0%|          | 0.00/632 [00:00<?, ?B/s]"
            ]
          },
          "metadata": {}
        },
        {
          "output_type": "display_data",
          "data": {
            "application/vnd.jupyter.widget-view+json": {
              "model_id": "df63f46509584096825cce350b40b3d1",
              "version_minor": 0,
              "version_major": 2
            },
            "text/plain": [
              "Downloading:   0%|          | 0.00/235k [00:00<?, ?B/s]"
            ]
          },
          "metadata": {}
        },
        {
          "output_type": "display_data",
          "data": {
            "application/vnd.jupyter.widget-view+json": {
              "model_id": "f7bc462612ca44fbb92d2a8bced4e962",
              "version_minor": 0,
              "version_major": 2
            },
            "text/plain": [
              "Downloading:   0%|          | 0.00/457k [00:00<?, ?B/s]"
            ]
          },
          "metadata": {}
        },
        {
          "output_type": "display_data",
          "data": {
            "application/vnd.jupyter.widget-view+json": {
              "model_id": "ae4c2e116b744e358704284e39b48d54",
              "version_minor": 0,
              "version_major": 2
            },
            "text/plain": [
              "Downloading:   0%|          | 0.00/112 [00:00<?, ?B/s]"
            ]
          },
          "metadata": {}
        },
        {
          "output_type": "display_data",
          "data": {
            "application/vnd.jupyter.widget-view+json": {
              "model_id": "07aae8be99c7422b94bf400f1e9a2d8d",
              "version_minor": 0,
              "version_major": 2
            },
            "text/plain": [
              "Downloading:   0%|          | 0.00/45.5M [00:00<?, ?B/s]"
            ]
          },
          "metadata": {}
        },
        {
          "output_type": "stream",
          "name": "stderr",
          "text": [
            "Some weights of the model checkpoint at cointegrated/rubert-tiny were not used when initializing BertModel: ['cls.seq_relationship.bias', 'cls.predictions.decoder.bias', 'cls.predictions.transform.dense.weight', 'cls.predictions.bias', 'cls.predictions.transform.LayerNorm.weight', 'cls.predictions.decoder.weight', 'cls.predictions.transform.dense.bias', 'cls.seq_relationship.weight', 'cls.predictions.transform.LayerNorm.bias']\n",
            "- This IS expected if you are initializing BertModel from the checkpoint of a model trained on another task or with another architecture (e.g. initializing a BertForSequenceClassification model from a BertForPreTraining model).\n",
            "- This IS NOT expected if you are initializing BertModel from the checkpoint of a model that you expect to be exactly identical (initializing a BertForSequenceClassification model from a BertForSequenceClassification model).\n"
          ]
        }
      ],
      "source": [
        "import pandas as pd\n",
        "import numpy as np\n",
        "from textspan import get_original_spans \n",
        "import nltk\n",
        "from nltk.collocations import *\n",
        "from nltk.metrics.association import QuadgramAssocMeasures\n",
        "\n",
        "import pymorphy2\n",
        "from pymorphy2.tokenizers import simple_word_tokenize\n",
        "from collections import defaultdict, Counter\n",
        "\n",
        "from sklearn.metrics.pairwise import cosine_similarity\n",
        "import torch\n",
        "from transformers import AutoTokenizer, AutoModel\n",
        "\n",
        "from string import punctuation\n",
        "\n",
        "tokenizer_bert = AutoTokenizer.from_pretrained(\"cointegrated/rubert-tiny\")\n",
        "model_bert = AutoModel.from_pretrained(\"cointegrated/rubert-tiny\")\n",
        "#model_bert.cuda()  \n",
        "\n",
        "\n",
        "morph = pymorphy2.MorphAnalyzer() \n"
      ]
    },
    {
      "cell_type": "markdown",
      "source": [
        "## Загрузка и предобработка"
      ],
      "metadata": {
        "id": "B7R43rrZ-kYK"
      },
      "id": "B7R43rrZ-kYK"
    },
    {
      "cell_type": "code",
      "execution_count": 4,
      "id": "20d96f3b",
      "metadata": {
        "id": "20d96f3b"
      },
      "outputs": [],
      "source": [
        "train_asp = pd.read_csv(\n",
        "    'train_split_aspects.txt', \n",
        "    delimiter='\\t', \n",
        "    names=['text_id', 'category', 'mention', 'start', 'end', 'sentiment']\n",
        ")\n",
        "train_texts = pd.read_csv('train_split_reviews.txt', delimiter='\\t', names=['text_id','text'])\n",
        "dev_texts = pd.read_csv('dev_reviews.txt', delimiter='\\t', names=['text_id', 'text'])\n",
        "dev_asp = pd.read_csv(\n",
        "    'dev_aspects.txt', \n",
        "    delimiter='\\t', \n",
        "    names=['text_id', 'category', 'mention', 'start', 'end', 'sentiment']\n",
        ")"
      ]
    },
    {
      "cell_type": "code",
      "execution_count": 5,
      "id": "8237cc2d",
      "metadata": {
        "id": "8237cc2d"
      },
      "outputs": [],
      "source": [
        "def tokenize(text):\n",
        "    tokens = [token.lower() for token in simple_word_tokenize(text)]\n",
        "    return tokens\n",
        "\n",
        "\n",
        "def normalize(text):\n",
        "    tokens = [token.lower() for token in simple_word_tokenize(text)]\n",
        "    text = [morph.parse(token)[0].normal_form for token in tokens]\n",
        "    return tuple(text)\n",
        "\n",
        "\n",
        "def pos_tag(mention):\n",
        "    POS_tag_list = []\n",
        "    for m in mention:\n",
        "        p = morph.parse(m)[0]\n",
        "        POS_tag_list.append(p.tag.POS )\n",
        "    return tuple(POS_tag_list)"
      ]
    },
    {
      "cell_type": "code",
      "execution_count": 6,
      "id": "ce707ba5",
      "metadata": {
        "id": "ce707ba5"
      },
      "outputs": [],
      "source": [
        "train_asp['norm_mention'] = [normalize(m) for m in train_asp['mention']]\n",
        "train_asp['length'] = train_asp['norm_mention'].apply(len)\n",
        "train_asp['pos_tag'] = train_asp['norm_mention'].apply(pos_tag)\n",
        "\n",
        "dev_texts['tokens'] = dev_texts['text'].apply(tokenize)\n",
        "dev_texts['norm_mention'] = dev_texts['text'].apply(normalize)\n",
        "dev_texts['normalized_text'] = dev_texts['norm_mention'].apply(' '.join)\n",
        "dev_texts['length'] = dev_texts['norm_mention'].apply(len)\n",
        "\n",
        "dev_asp['norm_mention'] = dev_asp['mention'].apply(normalize)\n",
        "dev_asp['length'] = dev_asp['norm_mention'].apply(len)\n",
        "dev_asp['pos_tag'] = dev_asp['norm_mention'].apply(pos_tag)\n"
      ]
    },
    {
      "cell_type": "code",
      "source": [
        "not_in_train  = set(dev_asp['pos_tag']) - set(train_asp['pos_tag']) #схемы, которых нет в трэин аспектах, но они есть в тестовых\n",
        "pos_tag_cnt = Counter(dev_asp['pos_tag'].to_list()) # сделаем каунтер для тестовых схем: сколько встречается каждая\n",
        "\n",
        "for scheme in not_in_train:\n",
        "    print(scheme, ':', pos_tag_cnt[scheme])   #вот такие схемы в таком количестве мы выкинем фильтрация по постэг схемам трэин аспектов"
      ],
      "metadata": {
        "colab": {
          "base_uri": "https://localhost:8080/"
        },
        "id": "mkqfR1PGDNdh",
        "outputId": "f37b3870-b0ce-4732-ebd1-fb949b749dea"
      },
      "id": "mkqfR1PGDNdh",
      "execution_count": 7,
      "outputs": [
        {
          "output_type": "stream",
          "name": "stdout",
          "text": [
            "('NOUN', 'ADJF', None, 'ADJF', None) : 1\n",
            "('ADJS', 'PREP', 'NOUN') : 1\n",
            "('NOUN', 'PREP', 'ADVB', None, 'PREP', 'NOUN', None) : 1\n",
            "('PREP', 'INFN') : 1\n",
            "('ADJF', 'NOUN', 'PREP', 'NOUN', 'PREP', 'ADJF') : 1\n",
            "('NOUN', 'GRND') : 1\n",
            "(None, None, None) : 1\n",
            "('INFN', 'NPRO', 'NOUN') : 1\n",
            "('NOUN', 'PREP', 'NUMR', 'NOUN') : 1\n",
            "('INFN', None, 'NOUN') : 1\n",
            "('ADJF', 'NOUN', 'ADJF', 'NOUN') : 1\n",
            "('NOUN', 'CONJ', 'NOUN', 'INFN') : 1\n",
            "('NOUN', 'PREP', 'NOUN', None, 'NOUN', 'CONJ', 'NOUN') : 1\n",
            "('NOUN', 'CONJ', 'NOUN', 'NOUN') : 1\n",
            "('ADJF', 'PREP', 'NOUN') : 1\n",
            "('NOUN', 'NOUN', 'PREP', 'ADJF', 'NOUN') : 1\n",
            "('ADJF', 'NOUN', 'CONJ', 'NOUN') : 1\n",
            "('NOUN', 'NOUN', 'PREP', 'ADJF', 'NOUN', 'CONJ', 'ADJF', 'NOUN') : 1\n",
            "('ADJF', None, 'ADJF', None, 'ADJF', 'NOUN') : 1\n",
            "('INFN', 'NOUN', 'PREP', 'NOUN', 'CONJ', 'NOUN', 'PREP', 'ADJF', 'NOUN', 'CONJ', 'ADJF', 'NOUN') : 1\n",
            "('NOUN', None, None, None) : 2\n",
            "('NOUN', 'PREP', 'ADJF', 'ADJF', 'NOUN') : 1\n"
          ]
        }
      ]
    },
    {
      "cell_type": "markdown",
      "source": [
        "## Функции"
      ],
      "metadata": {
        "id": "YkqjJJibzD9o"
      },
      "id": "YkqjJJibzD9o"
    },
    {
      "cell_type": "markdown",
      "source": [
        "### функции для вычислений"
      ],
      "metadata": {
        "id": "Fx9dMQct-8rr"
      },
      "id": "Fx9dMQct-8rr"
    },
    {
      "cell_type": "code",
      "source": [
        "def count_similarity(sim_matrix, train_asp_indexed):\n",
        "    similarity_vec = cosine_similarity(sim_matrix, train_asp_indexed)\n",
        "    return similarity_vec\n",
        "\n",
        "\n",
        "def index_bert(docs):\n",
        "    doc_vecs = []\n",
        "    if type(docs) != list:\n",
        "        docs = [docs] \n",
        "    for doc in docs:\n",
        "        t = tokenizer_bert(doc, padding=True, truncation=True, return_tensors='pt')\n",
        "        with torch.no_grad():\n",
        "            model_output = model_bert(**{k: v.to(model_bert.device) for k, v in t.items()})\n",
        "        embeddings = model_output.last_hidden_state[:, 0, :]\n",
        "        embeddings = torch.nn.functional.normalize(embeddings)\n",
        "        doc_vecs.append(embeddings[0].cpu().numpy())\n",
        "    return np.vstack(doc_vecs) \n",
        "\n",
        "\n",
        "def index_ngrams(ngrams):\n",
        "    ngrams = [' '.join(ngram) for ngram in ngrams]\n",
        "    indexed = index_bert(ngrams)\n",
        "    return indexed\n",
        "\n",
        "\n",
        "def filter_by_cossim(similarity_vec, ngram_found, threshold):\n",
        "    sim_vec = np.squeeze(similarity_vec)\n",
        "    order = np.array(np.squeeze(sim_vec) > threshold)\n",
        "    return ngram_found[order], sim_vec[order]"
      ],
      "metadata": {
        "id": "nSvjyXgl3IEh"
      },
      "id": "nSvjyXgl3IEh",
      "execution_count": 8,
      "outputs": []
    },
    {
      "cell_type": "markdown",
      "source": [
        "###Функция для выделения ближайших нграмм"
      ],
      "metadata": {
        "id": "x_kDbGWXXIa3"
      },
      "id": "x_kDbGWXXIa3"
    },
    {
      "cell_type": "code",
      "source": [
        "def find_similar_ngrams(train_asp, n, threshold, dev_texts=None, measures=None, finder=None, topn_assoc=None): #n - ngrams, topn_assoc - сколько берем по ассоциативной метрике, \n",
        "    train_list = train_asp[train_asp.length == n].norm_mention.tolist() #список нграмм из трэин аспектов\n",
        "\n",
        "    if n == 1:\n",
        "        n_grams = []\n",
        "        for text_tokens in dev_texts.norm_mention:\n",
        "            n_grams.extend(tuple([token]) for token in text_tokens)\n",
        "\n",
        "    else:\n",
        "        n_grams = finder.nbest(measures.jaccard, topn_assoc)  #находим нграммы по ассоциативной метрике из тестовых текстов\n",
        "  \n",
        "    filter_n_grams = [ngram for ngram in n_grams if pos_tag(ngram) in set(train_asp['pos_tag'])] #фильтруем по postag схеме\n",
        "\n",
        "    found_ngrams_indexed = index_ngrams(filter_n_grams) #индексируем бертом все найденные нграммы возвращает матрицу размера количество биграм*длину эмбеддингов\n",
        "\n",
        "    top_n_similar = []\n",
        "    one_list = []\n",
        "    values = {}\n",
        "\n",
        "    for ngram in train_list: #идем по аспектным биграммам из трэина\n",
        "\n",
        "        ngram_indexed = index_ngrams([ngram])  #индексируем их - возвращает матрицу размера количество биграм*длину эмбеддингов\n",
        "        rez = count_similarity(found_ngrams_indexed, ngram_indexed) #для биграммы из теста считаем косинусную близость с каждой биграммой из трэин аспектов\n",
        "        rez = np.squeeze(rez, axis=1)  #избавляемся от лишних размерностей\n",
        "        rez = np.expand_dims(rez, axis=0) #добавляем размерность в нужном месте для сортировки\n",
        "        toprez_ngrams, toprez_values = filter_by_cossim(rez, np.array(list(filter_n_grams)), threshold) #сортируем по значению и берем топн ближайших ключей\n",
        "\n",
        "        toprez_list = list(map(tuple, toprez_ngrams))  #убираем размерности и делаем лист из тюплов\n",
        "        top_n_similar.append(toprez_list)\n",
        "        one_list.extend(toprez_list)\n",
        "        \n",
        "\n",
        "        for one, rez in zip(toprez_list, toprez_values): #сделаем словарь: нграмма - максимальная близость к трэин аспектам\n",
        "            if one in values:\n",
        "               if rez > values[one][0]:\n",
        "                    values[one] = [rez, ngram]\n",
        "            else:\n",
        "                values[one] = [rez, ngram]\n",
        "\n",
        "    return values, one_list"
      ],
      "metadata": {
        "id": "D8ZAQ0CgVFbr"
      },
      "id": "D8ZAQ0CgVFbr",
      "execution_count": 9,
      "outputs": []
    },
    {
      "cell_type": "markdown",
      "source": [
        "###функция для выделения категорий"
      ],
      "metadata": {
        "id": "fUooofsiNQs2"
      },
      "id": "fUooofsiNQs2"
    },
    {
      "cell_type": "code",
      "source": [
        "def get_mention_category(data, cat_type, values):\n",
        "    nrgam2cat = {}\n",
        "    mention_categories = data.value_counts(subset=['norm_mention', cat_type])\n",
        "    mention_categories_dict = defaultdict(dict)\n",
        "    for key, value in mention_categories.items():\n",
        "        mention_categories_dict[key[0]][key[1]] = value\n",
        "    most_commons = {k: Counter(v).most_common(1)[0][0] for k, v in mention_categories_dict.items()}\n",
        "    for ngram in values:  #выделенной нграмме\n",
        "        category_definer = values[ngram][1]\n",
        "        nrgam2cat[ngram] = most_commons[category_definer]\n",
        "  \n",
        "    return nrgam2cat"
      ],
      "metadata": {
        "id": "YcIi67mARB4J"
      },
      "id": "YcIi67mARB4J",
      "execution_count": 10,
      "outputs": []
    },
    {
      "cell_type": "markdown",
      "source": [
        "##Униграммы\n"
      ],
      "metadata": {
        "id": "xvdSw40eX5Qt"
      },
      "id": "xvdSw40eX5Qt"
    },
    {
      "cell_type": "code",
      "source": [
        "values1, one_list1 = find_similar_ngrams(train_asp, 1, 0.999, dev_texts=dev_texts)\n",
        "value_cat1 = get_mention_category(train_asp, 'category', values1)"
      ],
      "metadata": {
        "id": "pP7VjHpQZM9t"
      },
      "id": "pP7VjHpQZM9t",
      "execution_count": 11,
      "outputs": []
    },
    {
      "cell_type": "code",
      "source": [
        "len(value_cat1)"
      ],
      "metadata": {
        "colab": {
          "base_uri": "https://localhost:8080/"
        },
        "id": "1JWHfcpPstEn",
        "outputId": "c1e41470-d283-40f9-ec1d-b17eabe972b0"
      },
      "id": "1JWHfcpPstEn",
      "execution_count": 12,
      "outputs": [
        {
          "output_type": "execute_result",
          "data": {
            "text/plain": [
              "266"
            ]
          },
          "metadata": {},
          "execution_count": 12
        }
      ]
    },
    {
      "cell_type": "markdown",
      "source": [
        "## Биграммы"
      ],
      "metadata": {
        "id": "oTRglgARW7ki"
      },
      "id": "oTRglgARW7ki"
    },
    {
      "cell_type": "code",
      "source": [
        "# Коллекция метрик\n",
        "bigram_measures = nltk.collocations.BigramAssocMeasures()\n",
        "\n",
        "ignored = punctuation\n",
        "\n",
        "# Экстрактор коллокаций\n",
        "finder2 = BigramCollocationFinder.from_documents(dev_texts.norm_mention.tolist())\n",
        "finder2.apply_word_filter(lambda w: w.lower() in ignored)\n"
      ],
      "metadata": {
        "id": "XSCFtWgELabQ"
      },
      "id": "XSCFtWgELabQ",
      "execution_count": 13,
      "outputs": []
    },
    {
      "cell_type": "code",
      "source": [
        "values2, one_list2 = find_similar_ngrams(train_asp, 2, 0.988, measures=bigram_measures, finder=finder2, topn_assoc=6000)\n",
        "value_cat2 = get_mention_category(train_asp, 'category', values2)"
      ],
      "metadata": {
        "id": "DyvO_fTv4p2R"
      },
      "id": "DyvO_fTv4p2R",
      "execution_count": 14,
      "outputs": []
    },
    {
      "cell_type": "code",
      "source": [
        "len(values2)"
      ],
      "metadata": {
        "colab": {
          "base_uri": "https://localhost:8080/"
        },
        "id": "5dsTNsLEWYNs",
        "outputId": "f6fc4932-9cb8-4f8c-e374-1c7a76a2b76b"
      },
      "id": "5dsTNsLEWYNs",
      "execution_count": 15,
      "outputs": [
        {
          "output_type": "execute_result",
          "data": {
            "text/plain": [
              "64"
            ]
          },
          "metadata": {},
          "execution_count": 15
        }
      ]
    },
    {
      "cell_type": "markdown",
      "source": [
        "##Триграммы"
      ],
      "metadata": {
        "id": "bZbipJy3mDuG"
      },
      "id": "bZbipJy3mDuG"
    },
    {
      "cell_type": "code",
      "source": [
        "trigram_measures = nltk.collocations.TrigramAssocMeasures()\n",
        "\n",
        "finder3 = TrigramCollocationFinder.from_documents(dev_texts.norm_mention.tolist())\n",
        "finder3.apply_word_filter(lambda w: w.lower() in ignored)"
      ],
      "metadata": {
        "id": "ZoorA7Cjg2mC"
      },
      "id": "ZoorA7Cjg2mC",
      "execution_count": 16,
      "outputs": []
    },
    {
      "cell_type": "code",
      "source": [
        "values3, one_list3 = find_similar_ngrams(train_asp, 3, 0.989, measures=trigram_measures, finder=finder3, topn_assoc=8000)\n",
        "value_cat3 = get_mention_category(train_asp, 'category', values3)"
      ],
      "metadata": {
        "id": "DpRr4tKkODei"
      },
      "id": "DpRr4tKkODei",
      "execution_count": 17,
      "outputs": []
    },
    {
      "cell_type": "code",
      "source": [
        "len(values3)"
      ],
      "metadata": {
        "colab": {
          "base_uri": "https://localhost:8080/"
        },
        "id": "2NU6QsV4oLMA",
        "outputId": "91c22e4a-6aa9-46be-9143-67ec2509f821"
      },
      "id": "2NU6QsV4oLMA",
      "execution_count": 18,
      "outputs": [
        {
          "output_type": "execute_result",
          "data": {
            "text/plain": [
              "12"
            ]
          },
          "metadata": {},
          "execution_count": 18
        }
      ]
    },
    {
      "cell_type": "markdown",
      "source": [
        "##4-граммы\n"
      ],
      "metadata": {
        "id": "lFPEP3spoSQ5"
      },
      "id": "lFPEP3spoSQ5"
    },
    {
      "cell_type": "code",
      "source": [
        "quadgram_measures = QuadgramAssocMeasures()\n",
        "\n",
        "finder4 = QuadgramCollocationFinder.from_documents(dev_texts.norm_mention.tolist())\n",
        "finder4.apply_word_filter(lambda w: w.lower() in ignored)"
      ],
      "metadata": {
        "id": "1kAJCnWzoLOn"
      },
      "id": "1kAJCnWzoLOn",
      "execution_count": 19,
      "outputs": []
    },
    {
      "cell_type": "code",
      "source": [
        "values4, one_list4 = find_similar_ngrams(train_asp, 4, 0.97, measures=quadgram_measures, finder=finder4, topn_assoc=3980)\n",
        "value_cat4 = get_mention_category(train_asp, 'category', values4)"
      ],
      "metadata": {
        "id": "lvmejKHyosX6"
      },
      "id": "lvmejKHyosX6",
      "execution_count": 20,
      "outputs": []
    },
    {
      "cell_type": "code",
      "source": [
        "len(values4)"
      ],
      "metadata": {
        "colab": {
          "base_uri": "https://localhost:8080/"
        },
        "id": "JqZkeCHBoskp",
        "outputId": "aac689d2-74a3-4732-becb-69238066fa86"
      },
      "id": "JqZkeCHBoskp",
      "execution_count": 21,
      "outputs": [
        {
          "output_type": "execute_result",
          "data": {
            "text/plain": [
              "4"
            ]
          },
          "metadata": {},
          "execution_count": 21
        }
      ]
    },
    {
      "cell_type": "markdown",
      "source": [
        "## Ищем выделенные n-граммы и формируем итоговый файл"
      ],
      "metadata": {
        "id": "6i_S4_-PcMQS"
      },
      "id": "6i_S4_-PcMQS"
    },
    {
      "cell_type": "code",
      "source": [
        "def get_token_spans(row):\n",
        "  spans = [span[0] for span in get_original_spans(row['tokens'], row['text'])]\n",
        "  return spans\n",
        "\n",
        "\n",
        "def ngram_index(words, ngram, offset):\n",
        "  try:\n",
        "    ind_start = offset + list(nltk.ngrams(words[offset:], len(ngram))).index(tuple(ngram))\n",
        "    ind_end = ind_start + len(ngram) - 1\n",
        "    return (ind_start, ind_end)\n",
        "  except ValueError:\n",
        "    return None\n",
        "\n",
        "def find_text_ngrams(norm_text, ngrams, spans):\n",
        "  ngrams_text = []\n",
        "\n",
        "  for ngram in ngrams:\n",
        "    offset = 0\n",
        "    i = 0\n",
        "    while True and len(norm_text) != offset:\n",
        "      ngram_ind = ngram_index(norm_text, ngram, offset)\n",
        "      if not ngram_ind:\n",
        "        break\n",
        "\n",
        "      if ngram_ind:\n",
        "        first_token_ind = ngram_ind[0]\n",
        "        last_token_ind = ngram_ind[-1]\n",
        "\n",
        "        start = spans[first_token_ind][0]\n",
        "        end = spans[last_token_ind][-1]\n",
        "\n",
        "        offset = last_token_ind + 1\n",
        "\n",
        "        ngrams_text.append((ngram, start, end))\n",
        "\n",
        "  return ngrams_text\n"
      ],
      "metadata": {
        "id": "ZfMD664awE84"
      },
      "id": "ZfMD664awE84",
      "execution_count": 22,
      "outputs": []
    },
    {
      "cell_type": "code",
      "source": [
        "dev_texts['spans'] = dev_texts.apply(lambda x: get_token_spans(x), axis=1)\n",
        "total = {**value_cat4, **value_cat2, **value_cat3, **value_cat1}\n",
        "len(total)"
      ],
      "metadata": {
        "id": "LpaLMsOkY9rT",
        "outputId": "124d7f8e-a0f9-4a07-a858-80da37e77c30",
        "colab": {
          "base_uri": "https://localhost:8080/"
        }
      },
      "id": "LpaLMsOkY9rT",
      "execution_count": 23,
      "outputs": [
        {
          "output_type": "execute_result",
          "data": {
            "text/plain": [
              "346"
            ]
          },
          "metadata": {},
          "execution_count": 23
        }
      ]
    },
    {
      "cell_type": "code",
      "source": [
        "with open('dev_pred_aspects.txt', 'w') as f:\n",
        "    for tokens, span, id, text in zip(dev_texts.norm_mention.values, dev_texts.spans.values, dev_texts.text_id.values, dev_texts.text):\n",
        "        ngrams_spans = find_text_ngrams(tokens, total.keys(), span)\n",
        "        for ngram, start, end in ngrams_spans:\n",
        "            print(id, total[ngram], text[start:end], start, end, 'neutral', sep=\"\\t\", file=f)"
      ],
      "metadata": {
        "id": "4TShVQNOhy0f"
      },
      "id": "4TShVQNOhy0f",
      "execution_count": 24,
      "outputs": []
    }
  ],
  "metadata": {
    "kernelspec": {
      "display_name": "Python 3",
      "language": "python",
      "name": "python3"
    },
    "language_info": {
      "codemirror_mode": {
        "name": "ipython",
        "version": 3
      },
      "file_extension": ".py",
      "mimetype": "text/x-python",
      "name": "python",
      "nbconvert_exporter": "python",
      "pygments_lexer": "ipython3",
      "version": "3.9.4"
    },
    "colab": {
      "name": "Copie de Baselines.ipynb",
      "provenance": []
    },
    "widgets": {
      "application/vnd.jupyter.widget-state+json": {
        "7604aeebf9064e87a8e1519ec4a3da06": {
          "model_module": "@jupyter-widgets/controls",
          "model_name": "HBoxModel",
          "model_module_version": "1.5.0",
          "state": {
            "_view_name": "HBoxView",
            "_dom_classes": [],
            "_model_name": "HBoxModel",
            "_view_module": "@jupyter-widgets/controls",
            "_model_module_version": "1.5.0",
            "_view_count": null,
            "_view_module_version": "1.5.0",
            "box_style": "",
            "layout": "IPY_MODEL_1baa3c4465354a4193efdab938648a10",
            "_model_module": "@jupyter-widgets/controls",
            "children": [
              "IPY_MODEL_26aaf8619bfc4b01b85ea679d320fa5c",
              "IPY_MODEL_e3a2e8d78be942a38db2d96cc6a1dcb4",
              "IPY_MODEL_f4966001186d467089aeb2bd87b44924"
            ]
          }
        },
        "1baa3c4465354a4193efdab938648a10": {
          "model_module": "@jupyter-widgets/base",
          "model_name": "LayoutModel",
          "model_module_version": "1.2.0",
          "state": {
            "_view_name": "LayoutView",
            "grid_template_rows": null,
            "right": null,
            "justify_content": null,
            "_view_module": "@jupyter-widgets/base",
            "overflow": null,
            "_model_module_version": "1.2.0",
            "_view_count": null,
            "flex_flow": null,
            "width": null,
            "min_width": null,
            "border": null,
            "align_items": null,
            "bottom": null,
            "_model_module": "@jupyter-widgets/base",
            "top": null,
            "grid_column": null,
            "overflow_y": null,
            "overflow_x": null,
            "grid_auto_flow": null,
            "grid_area": null,
            "grid_template_columns": null,
            "flex": null,
            "_model_name": "LayoutModel",
            "justify_items": null,
            "grid_row": null,
            "max_height": null,
            "align_content": null,
            "visibility": null,
            "align_self": null,
            "height": null,
            "min_height": null,
            "padding": null,
            "grid_auto_rows": null,
            "grid_gap": null,
            "max_width": null,
            "order": null,
            "_view_module_version": "1.2.0",
            "grid_template_areas": null,
            "object_position": null,
            "object_fit": null,
            "grid_auto_columns": null,
            "margin": null,
            "display": null,
            "left": null
          }
        },
        "26aaf8619bfc4b01b85ea679d320fa5c": {
          "model_module": "@jupyter-widgets/controls",
          "model_name": "HTMLModel",
          "model_module_version": "1.5.0",
          "state": {
            "_view_name": "HTMLView",
            "style": "IPY_MODEL_2a0154e9fc5e4e07b5839b770de0e9ab",
            "_dom_classes": [],
            "description": "",
            "_model_name": "HTMLModel",
            "placeholder": "​",
            "_view_module": "@jupyter-widgets/controls",
            "_model_module_version": "1.5.0",
            "value": "Downloading: 100%",
            "_view_count": null,
            "_view_module_version": "1.5.0",
            "description_tooltip": null,
            "_model_module": "@jupyter-widgets/controls",
            "layout": "IPY_MODEL_5a43e450c7934a819c8975aa21f5222d"
          }
        },
        "e3a2e8d78be942a38db2d96cc6a1dcb4": {
          "model_module": "@jupyter-widgets/controls",
          "model_name": "FloatProgressModel",
          "model_module_version": "1.5.0",
          "state": {
            "_view_name": "ProgressView",
            "style": "IPY_MODEL_032ddf96893c473fb42e020e08bc04af",
            "_dom_classes": [],
            "description": "",
            "_model_name": "FloatProgressModel",
            "bar_style": "success",
            "max": 341,
            "_view_module": "@jupyter-widgets/controls",
            "_model_module_version": "1.5.0",
            "value": 341,
            "_view_count": null,
            "_view_module_version": "1.5.0",
            "orientation": "horizontal",
            "min": 0,
            "description_tooltip": null,
            "_model_module": "@jupyter-widgets/controls",
            "layout": "IPY_MODEL_e9418b8ad9644c19a669987a4bdcd8be"
          }
        },
        "f4966001186d467089aeb2bd87b44924": {
          "model_module": "@jupyter-widgets/controls",
          "model_name": "HTMLModel",
          "model_module_version": "1.5.0",
          "state": {
            "_view_name": "HTMLView",
            "style": "IPY_MODEL_b0201625381d4f388181bd15989e3aca",
            "_dom_classes": [],
            "description": "",
            "_model_name": "HTMLModel",
            "placeholder": "​",
            "_view_module": "@jupyter-widgets/controls",
            "_model_module_version": "1.5.0",
            "value": " 341/341 [00:00&lt;00:00, 3.94kB/s]",
            "_view_count": null,
            "_view_module_version": "1.5.0",
            "description_tooltip": null,
            "_model_module": "@jupyter-widgets/controls",
            "layout": "IPY_MODEL_f7bec246ec9340249fa63276d92a6409"
          }
        },
        "2a0154e9fc5e4e07b5839b770de0e9ab": {
          "model_module": "@jupyter-widgets/controls",
          "model_name": "DescriptionStyleModel",
          "model_module_version": "1.5.0",
          "state": {
            "_view_name": "StyleView",
            "_model_name": "DescriptionStyleModel",
            "description_width": "",
            "_view_module": "@jupyter-widgets/base",
            "_model_module_version": "1.5.0",
            "_view_count": null,
            "_view_module_version": "1.2.0",
            "_model_module": "@jupyter-widgets/controls"
          }
        },
        "5a43e450c7934a819c8975aa21f5222d": {
          "model_module": "@jupyter-widgets/base",
          "model_name": "LayoutModel",
          "model_module_version": "1.2.0",
          "state": {
            "_view_name": "LayoutView",
            "grid_template_rows": null,
            "right": null,
            "justify_content": null,
            "_view_module": "@jupyter-widgets/base",
            "overflow": null,
            "_model_module_version": "1.2.0",
            "_view_count": null,
            "flex_flow": null,
            "width": null,
            "min_width": null,
            "border": null,
            "align_items": null,
            "bottom": null,
            "_model_module": "@jupyter-widgets/base",
            "top": null,
            "grid_column": null,
            "overflow_y": null,
            "overflow_x": null,
            "grid_auto_flow": null,
            "grid_area": null,
            "grid_template_columns": null,
            "flex": null,
            "_model_name": "LayoutModel",
            "justify_items": null,
            "grid_row": null,
            "max_height": null,
            "align_content": null,
            "visibility": null,
            "align_self": null,
            "height": null,
            "min_height": null,
            "padding": null,
            "grid_auto_rows": null,
            "grid_gap": null,
            "max_width": null,
            "order": null,
            "_view_module_version": "1.2.0",
            "grid_template_areas": null,
            "object_position": null,
            "object_fit": null,
            "grid_auto_columns": null,
            "margin": null,
            "display": null,
            "left": null
          }
        },
        "032ddf96893c473fb42e020e08bc04af": {
          "model_module": "@jupyter-widgets/controls",
          "model_name": "ProgressStyleModel",
          "model_module_version": "1.5.0",
          "state": {
            "_view_name": "StyleView",
            "_model_name": "ProgressStyleModel",
            "description_width": "",
            "_view_module": "@jupyter-widgets/base",
            "_model_module_version": "1.5.0",
            "_view_count": null,
            "_view_module_version": "1.2.0",
            "bar_color": null,
            "_model_module": "@jupyter-widgets/controls"
          }
        },
        "e9418b8ad9644c19a669987a4bdcd8be": {
          "model_module": "@jupyter-widgets/base",
          "model_name": "LayoutModel",
          "model_module_version": "1.2.0",
          "state": {
            "_view_name": "LayoutView",
            "grid_template_rows": null,
            "right": null,
            "justify_content": null,
            "_view_module": "@jupyter-widgets/base",
            "overflow": null,
            "_model_module_version": "1.2.0",
            "_view_count": null,
            "flex_flow": null,
            "width": null,
            "min_width": null,
            "border": null,
            "align_items": null,
            "bottom": null,
            "_model_module": "@jupyter-widgets/base",
            "top": null,
            "grid_column": null,
            "overflow_y": null,
            "overflow_x": null,
            "grid_auto_flow": null,
            "grid_area": null,
            "grid_template_columns": null,
            "flex": null,
            "_model_name": "LayoutModel",
            "justify_items": null,
            "grid_row": null,
            "max_height": null,
            "align_content": null,
            "visibility": null,
            "align_self": null,
            "height": null,
            "min_height": null,
            "padding": null,
            "grid_auto_rows": null,
            "grid_gap": null,
            "max_width": null,
            "order": null,
            "_view_module_version": "1.2.0",
            "grid_template_areas": null,
            "object_position": null,
            "object_fit": null,
            "grid_auto_columns": null,
            "margin": null,
            "display": null,
            "left": null
          }
        },
        "b0201625381d4f388181bd15989e3aca": {
          "model_module": "@jupyter-widgets/controls",
          "model_name": "DescriptionStyleModel",
          "model_module_version": "1.5.0",
          "state": {
            "_view_name": "StyleView",
            "_model_name": "DescriptionStyleModel",
            "description_width": "",
            "_view_module": "@jupyter-widgets/base",
            "_model_module_version": "1.5.0",
            "_view_count": null,
            "_view_module_version": "1.2.0",
            "_model_module": "@jupyter-widgets/controls"
          }
        },
        "f7bec246ec9340249fa63276d92a6409": {
          "model_module": "@jupyter-widgets/base",
          "model_name": "LayoutModel",
          "model_module_version": "1.2.0",
          "state": {
            "_view_name": "LayoutView",
            "grid_template_rows": null,
            "right": null,
            "justify_content": null,
            "_view_module": "@jupyter-widgets/base",
            "overflow": null,
            "_model_module_version": "1.2.0",
            "_view_count": null,
            "flex_flow": null,
            "width": null,
            "min_width": null,
            "border": null,
            "align_items": null,
            "bottom": null,
            "_model_module": "@jupyter-widgets/base",
            "top": null,
            "grid_column": null,
            "overflow_y": null,
            "overflow_x": null,
            "grid_auto_flow": null,
            "grid_area": null,
            "grid_template_columns": null,
            "flex": null,
            "_model_name": "LayoutModel",
            "justify_items": null,
            "grid_row": null,
            "max_height": null,
            "align_content": null,
            "visibility": null,
            "align_self": null,
            "height": null,
            "min_height": null,
            "padding": null,
            "grid_auto_rows": null,
            "grid_gap": null,
            "max_width": null,
            "order": null,
            "_view_module_version": "1.2.0",
            "grid_template_areas": null,
            "object_position": null,
            "object_fit": null,
            "grid_auto_columns": null,
            "margin": null,
            "display": null,
            "left": null
          }
        },
        "0f21d922f828455eb392d6fb975f39db": {
          "model_module": "@jupyter-widgets/controls",
          "model_name": "HBoxModel",
          "model_module_version": "1.5.0",
          "state": {
            "_view_name": "HBoxView",
            "_dom_classes": [],
            "_model_name": "HBoxModel",
            "_view_module": "@jupyter-widgets/controls",
            "_model_module_version": "1.5.0",
            "_view_count": null,
            "_view_module_version": "1.5.0",
            "box_style": "",
            "layout": "IPY_MODEL_629872fc52574ee38332e913050fe539",
            "_model_module": "@jupyter-widgets/controls",
            "children": [
              "IPY_MODEL_a8ff61e06aee4644b8b01a2e434805db",
              "IPY_MODEL_380bf740fd3542759b0136054db2909d",
              "IPY_MODEL_fb85afefd7aa4188b8c3a5782bda58e3"
            ]
          }
        },
        "629872fc52574ee38332e913050fe539": {
          "model_module": "@jupyter-widgets/base",
          "model_name": "LayoutModel",
          "model_module_version": "1.2.0",
          "state": {
            "_view_name": "LayoutView",
            "grid_template_rows": null,
            "right": null,
            "justify_content": null,
            "_view_module": "@jupyter-widgets/base",
            "overflow": null,
            "_model_module_version": "1.2.0",
            "_view_count": null,
            "flex_flow": null,
            "width": null,
            "min_width": null,
            "border": null,
            "align_items": null,
            "bottom": null,
            "_model_module": "@jupyter-widgets/base",
            "top": null,
            "grid_column": null,
            "overflow_y": null,
            "overflow_x": null,
            "grid_auto_flow": null,
            "grid_area": null,
            "grid_template_columns": null,
            "flex": null,
            "_model_name": "LayoutModel",
            "justify_items": null,
            "grid_row": null,
            "max_height": null,
            "align_content": null,
            "visibility": null,
            "align_self": null,
            "height": null,
            "min_height": null,
            "padding": null,
            "grid_auto_rows": null,
            "grid_gap": null,
            "max_width": null,
            "order": null,
            "_view_module_version": "1.2.0",
            "grid_template_areas": null,
            "object_position": null,
            "object_fit": null,
            "grid_auto_columns": null,
            "margin": null,
            "display": null,
            "left": null
          }
        },
        "a8ff61e06aee4644b8b01a2e434805db": {
          "model_module": "@jupyter-widgets/controls",
          "model_name": "HTMLModel",
          "model_module_version": "1.5.0",
          "state": {
            "_view_name": "HTMLView",
            "style": "IPY_MODEL_502779f964e54a9f9dc70e87fa8bb6d2",
            "_dom_classes": [],
            "description": "",
            "_model_name": "HTMLModel",
            "placeholder": "​",
            "_view_module": "@jupyter-widgets/controls",
            "_model_module_version": "1.5.0",
            "value": "Downloading: 100%",
            "_view_count": null,
            "_view_module_version": "1.5.0",
            "description_tooltip": null,
            "_model_module": "@jupyter-widgets/controls",
            "layout": "IPY_MODEL_e83df6f26272435485fcc8e9980b15dc"
          }
        },
        "380bf740fd3542759b0136054db2909d": {
          "model_module": "@jupyter-widgets/controls",
          "model_name": "FloatProgressModel",
          "model_module_version": "1.5.0",
          "state": {
            "_view_name": "ProgressView",
            "style": "IPY_MODEL_ff1597649e6a4cb998f92519afb4080a",
            "_dom_classes": [],
            "description": "",
            "_model_name": "FloatProgressModel",
            "bar_style": "success",
            "max": 632,
            "_view_module": "@jupyter-widgets/controls",
            "_model_module_version": "1.5.0",
            "value": 632,
            "_view_count": null,
            "_view_module_version": "1.5.0",
            "orientation": "horizontal",
            "min": 0,
            "description_tooltip": null,
            "_model_module": "@jupyter-widgets/controls",
            "layout": "IPY_MODEL_bef5fdceed294c938b2419e00164a265"
          }
        },
        "fb85afefd7aa4188b8c3a5782bda58e3": {
          "model_module": "@jupyter-widgets/controls",
          "model_name": "HTMLModel",
          "model_module_version": "1.5.0",
          "state": {
            "_view_name": "HTMLView",
            "style": "IPY_MODEL_a2240449ad2e4ebc964bc1126021e217",
            "_dom_classes": [],
            "description": "",
            "_model_name": "HTMLModel",
            "placeholder": "​",
            "_view_module": "@jupyter-widgets/controls",
            "_model_module_version": "1.5.0",
            "value": " 632/632 [00:00&lt;00:00, 7.60kB/s]",
            "_view_count": null,
            "_view_module_version": "1.5.0",
            "description_tooltip": null,
            "_model_module": "@jupyter-widgets/controls",
            "layout": "IPY_MODEL_f347a54910764286b5f9e813c1c2a966"
          }
        },
        "502779f964e54a9f9dc70e87fa8bb6d2": {
          "model_module": "@jupyter-widgets/controls",
          "model_name": "DescriptionStyleModel",
          "model_module_version": "1.5.0",
          "state": {
            "_view_name": "StyleView",
            "_model_name": "DescriptionStyleModel",
            "description_width": "",
            "_view_module": "@jupyter-widgets/base",
            "_model_module_version": "1.5.0",
            "_view_count": null,
            "_view_module_version": "1.2.0",
            "_model_module": "@jupyter-widgets/controls"
          }
        },
        "e83df6f26272435485fcc8e9980b15dc": {
          "model_module": "@jupyter-widgets/base",
          "model_name": "LayoutModel",
          "model_module_version": "1.2.0",
          "state": {
            "_view_name": "LayoutView",
            "grid_template_rows": null,
            "right": null,
            "justify_content": null,
            "_view_module": "@jupyter-widgets/base",
            "overflow": null,
            "_model_module_version": "1.2.0",
            "_view_count": null,
            "flex_flow": null,
            "width": null,
            "min_width": null,
            "border": null,
            "align_items": null,
            "bottom": null,
            "_model_module": "@jupyter-widgets/base",
            "top": null,
            "grid_column": null,
            "overflow_y": null,
            "overflow_x": null,
            "grid_auto_flow": null,
            "grid_area": null,
            "grid_template_columns": null,
            "flex": null,
            "_model_name": "LayoutModel",
            "justify_items": null,
            "grid_row": null,
            "max_height": null,
            "align_content": null,
            "visibility": null,
            "align_self": null,
            "height": null,
            "min_height": null,
            "padding": null,
            "grid_auto_rows": null,
            "grid_gap": null,
            "max_width": null,
            "order": null,
            "_view_module_version": "1.2.0",
            "grid_template_areas": null,
            "object_position": null,
            "object_fit": null,
            "grid_auto_columns": null,
            "margin": null,
            "display": null,
            "left": null
          }
        },
        "ff1597649e6a4cb998f92519afb4080a": {
          "model_module": "@jupyter-widgets/controls",
          "model_name": "ProgressStyleModel",
          "model_module_version": "1.5.0",
          "state": {
            "_view_name": "StyleView",
            "_model_name": "ProgressStyleModel",
            "description_width": "",
            "_view_module": "@jupyter-widgets/base",
            "_model_module_version": "1.5.0",
            "_view_count": null,
            "_view_module_version": "1.2.0",
            "bar_color": null,
            "_model_module": "@jupyter-widgets/controls"
          }
        },
        "bef5fdceed294c938b2419e00164a265": {
          "model_module": "@jupyter-widgets/base",
          "model_name": "LayoutModel",
          "model_module_version": "1.2.0",
          "state": {
            "_view_name": "LayoutView",
            "grid_template_rows": null,
            "right": null,
            "justify_content": null,
            "_view_module": "@jupyter-widgets/base",
            "overflow": null,
            "_model_module_version": "1.2.0",
            "_view_count": null,
            "flex_flow": null,
            "width": null,
            "min_width": null,
            "border": null,
            "align_items": null,
            "bottom": null,
            "_model_module": "@jupyter-widgets/base",
            "top": null,
            "grid_column": null,
            "overflow_y": null,
            "overflow_x": null,
            "grid_auto_flow": null,
            "grid_area": null,
            "grid_template_columns": null,
            "flex": null,
            "_model_name": "LayoutModel",
            "justify_items": null,
            "grid_row": null,
            "max_height": null,
            "align_content": null,
            "visibility": null,
            "align_self": null,
            "height": null,
            "min_height": null,
            "padding": null,
            "grid_auto_rows": null,
            "grid_gap": null,
            "max_width": null,
            "order": null,
            "_view_module_version": "1.2.0",
            "grid_template_areas": null,
            "object_position": null,
            "object_fit": null,
            "grid_auto_columns": null,
            "margin": null,
            "display": null,
            "left": null
          }
        },
        "a2240449ad2e4ebc964bc1126021e217": {
          "model_module": "@jupyter-widgets/controls",
          "model_name": "DescriptionStyleModel",
          "model_module_version": "1.5.0",
          "state": {
            "_view_name": "StyleView",
            "_model_name": "DescriptionStyleModel",
            "description_width": "",
            "_view_module": "@jupyter-widgets/base",
            "_model_module_version": "1.5.0",
            "_view_count": null,
            "_view_module_version": "1.2.0",
            "_model_module": "@jupyter-widgets/controls"
          }
        },
        "f347a54910764286b5f9e813c1c2a966": {
          "model_module": "@jupyter-widgets/base",
          "model_name": "LayoutModel",
          "model_module_version": "1.2.0",
          "state": {
            "_view_name": "LayoutView",
            "grid_template_rows": null,
            "right": null,
            "justify_content": null,
            "_view_module": "@jupyter-widgets/base",
            "overflow": null,
            "_model_module_version": "1.2.0",
            "_view_count": null,
            "flex_flow": null,
            "width": null,
            "min_width": null,
            "border": null,
            "align_items": null,
            "bottom": null,
            "_model_module": "@jupyter-widgets/base",
            "top": null,
            "grid_column": null,
            "overflow_y": null,
            "overflow_x": null,
            "grid_auto_flow": null,
            "grid_area": null,
            "grid_template_columns": null,
            "flex": null,
            "_model_name": "LayoutModel",
            "justify_items": null,
            "grid_row": null,
            "max_height": null,
            "align_content": null,
            "visibility": null,
            "align_self": null,
            "height": null,
            "min_height": null,
            "padding": null,
            "grid_auto_rows": null,
            "grid_gap": null,
            "max_width": null,
            "order": null,
            "_view_module_version": "1.2.0",
            "grid_template_areas": null,
            "object_position": null,
            "object_fit": null,
            "grid_auto_columns": null,
            "margin": null,
            "display": null,
            "left": null
          }
        },
        "df63f46509584096825cce350b40b3d1": {
          "model_module": "@jupyter-widgets/controls",
          "model_name": "HBoxModel",
          "model_module_version": "1.5.0",
          "state": {
            "_view_name": "HBoxView",
            "_dom_classes": [],
            "_model_name": "HBoxModel",
            "_view_module": "@jupyter-widgets/controls",
            "_model_module_version": "1.5.0",
            "_view_count": null,
            "_view_module_version": "1.5.0",
            "box_style": "",
            "layout": "IPY_MODEL_35bd7a8068ba4a2090f9c877586e4e85",
            "_model_module": "@jupyter-widgets/controls",
            "children": [
              "IPY_MODEL_47077c782b4146a1aee235e8237ce7d4",
              "IPY_MODEL_d8582564d0a1405485e452c405259534",
              "IPY_MODEL_fd710be4c8a34744ac29283cf74df6ef"
            ]
          }
        },
        "35bd7a8068ba4a2090f9c877586e4e85": {
          "model_module": "@jupyter-widgets/base",
          "model_name": "LayoutModel",
          "model_module_version": "1.2.0",
          "state": {
            "_view_name": "LayoutView",
            "grid_template_rows": null,
            "right": null,
            "justify_content": null,
            "_view_module": "@jupyter-widgets/base",
            "overflow": null,
            "_model_module_version": "1.2.0",
            "_view_count": null,
            "flex_flow": null,
            "width": null,
            "min_width": null,
            "border": null,
            "align_items": null,
            "bottom": null,
            "_model_module": "@jupyter-widgets/base",
            "top": null,
            "grid_column": null,
            "overflow_y": null,
            "overflow_x": null,
            "grid_auto_flow": null,
            "grid_area": null,
            "grid_template_columns": null,
            "flex": null,
            "_model_name": "LayoutModel",
            "justify_items": null,
            "grid_row": null,
            "max_height": null,
            "align_content": null,
            "visibility": null,
            "align_self": null,
            "height": null,
            "min_height": null,
            "padding": null,
            "grid_auto_rows": null,
            "grid_gap": null,
            "max_width": null,
            "order": null,
            "_view_module_version": "1.2.0",
            "grid_template_areas": null,
            "object_position": null,
            "object_fit": null,
            "grid_auto_columns": null,
            "margin": null,
            "display": null,
            "left": null
          }
        },
        "47077c782b4146a1aee235e8237ce7d4": {
          "model_module": "@jupyter-widgets/controls",
          "model_name": "HTMLModel",
          "model_module_version": "1.5.0",
          "state": {
            "_view_name": "HTMLView",
            "style": "IPY_MODEL_be8cf160a4c747c68f5f65ab770bbc77",
            "_dom_classes": [],
            "description": "",
            "_model_name": "HTMLModel",
            "placeholder": "​",
            "_view_module": "@jupyter-widgets/controls",
            "_model_module_version": "1.5.0",
            "value": "Downloading: 100%",
            "_view_count": null,
            "_view_module_version": "1.5.0",
            "description_tooltip": null,
            "_model_module": "@jupyter-widgets/controls",
            "layout": "IPY_MODEL_84d4c1dfd9da466baf9363cf57bb5d14"
          }
        },
        "d8582564d0a1405485e452c405259534": {
          "model_module": "@jupyter-widgets/controls",
          "model_name": "FloatProgressModel",
          "model_module_version": "1.5.0",
          "state": {
            "_view_name": "ProgressView",
            "style": "IPY_MODEL_e5595f0544034a289551c12c998ce68c",
            "_dom_classes": [],
            "description": "",
            "_model_name": "FloatProgressModel",
            "bar_style": "success",
            "max": 241082,
            "_view_module": "@jupyter-widgets/controls",
            "_model_module_version": "1.5.0",
            "value": 241082,
            "_view_count": null,
            "_view_module_version": "1.5.0",
            "orientation": "horizontal",
            "min": 0,
            "description_tooltip": null,
            "_model_module": "@jupyter-widgets/controls",
            "layout": "IPY_MODEL_d424e8cb0385459eb9d4d66a4932ee2e"
          }
        },
        "fd710be4c8a34744ac29283cf74df6ef": {
          "model_module": "@jupyter-widgets/controls",
          "model_name": "HTMLModel",
          "model_module_version": "1.5.0",
          "state": {
            "_view_name": "HTMLView",
            "style": "IPY_MODEL_9415ba9f4f5142279328e9c9ec3d440e",
            "_dom_classes": [],
            "description": "",
            "_model_name": "HTMLModel",
            "placeholder": "​",
            "_view_module": "@jupyter-widgets/controls",
            "_model_module_version": "1.5.0",
            "value": " 235k/235k [00:00&lt;00:00, 581kB/s]",
            "_view_count": null,
            "_view_module_version": "1.5.0",
            "description_tooltip": null,
            "_model_module": "@jupyter-widgets/controls",
            "layout": "IPY_MODEL_a32277b319514c259b33c0781cc24c9a"
          }
        },
        "be8cf160a4c747c68f5f65ab770bbc77": {
          "model_module": "@jupyter-widgets/controls",
          "model_name": "DescriptionStyleModel",
          "model_module_version": "1.5.0",
          "state": {
            "_view_name": "StyleView",
            "_model_name": "DescriptionStyleModel",
            "description_width": "",
            "_view_module": "@jupyter-widgets/base",
            "_model_module_version": "1.5.0",
            "_view_count": null,
            "_view_module_version": "1.2.0",
            "_model_module": "@jupyter-widgets/controls"
          }
        },
        "84d4c1dfd9da466baf9363cf57bb5d14": {
          "model_module": "@jupyter-widgets/base",
          "model_name": "LayoutModel",
          "model_module_version": "1.2.0",
          "state": {
            "_view_name": "LayoutView",
            "grid_template_rows": null,
            "right": null,
            "justify_content": null,
            "_view_module": "@jupyter-widgets/base",
            "overflow": null,
            "_model_module_version": "1.2.0",
            "_view_count": null,
            "flex_flow": null,
            "width": null,
            "min_width": null,
            "border": null,
            "align_items": null,
            "bottom": null,
            "_model_module": "@jupyter-widgets/base",
            "top": null,
            "grid_column": null,
            "overflow_y": null,
            "overflow_x": null,
            "grid_auto_flow": null,
            "grid_area": null,
            "grid_template_columns": null,
            "flex": null,
            "_model_name": "LayoutModel",
            "justify_items": null,
            "grid_row": null,
            "max_height": null,
            "align_content": null,
            "visibility": null,
            "align_self": null,
            "height": null,
            "min_height": null,
            "padding": null,
            "grid_auto_rows": null,
            "grid_gap": null,
            "max_width": null,
            "order": null,
            "_view_module_version": "1.2.0",
            "grid_template_areas": null,
            "object_position": null,
            "object_fit": null,
            "grid_auto_columns": null,
            "margin": null,
            "display": null,
            "left": null
          }
        },
        "e5595f0544034a289551c12c998ce68c": {
          "model_module": "@jupyter-widgets/controls",
          "model_name": "ProgressStyleModel",
          "model_module_version": "1.5.0",
          "state": {
            "_view_name": "StyleView",
            "_model_name": "ProgressStyleModel",
            "description_width": "",
            "_view_module": "@jupyter-widgets/base",
            "_model_module_version": "1.5.0",
            "_view_count": null,
            "_view_module_version": "1.2.0",
            "bar_color": null,
            "_model_module": "@jupyter-widgets/controls"
          }
        },
        "d424e8cb0385459eb9d4d66a4932ee2e": {
          "model_module": "@jupyter-widgets/base",
          "model_name": "LayoutModel",
          "model_module_version": "1.2.0",
          "state": {
            "_view_name": "LayoutView",
            "grid_template_rows": null,
            "right": null,
            "justify_content": null,
            "_view_module": "@jupyter-widgets/base",
            "overflow": null,
            "_model_module_version": "1.2.0",
            "_view_count": null,
            "flex_flow": null,
            "width": null,
            "min_width": null,
            "border": null,
            "align_items": null,
            "bottom": null,
            "_model_module": "@jupyter-widgets/base",
            "top": null,
            "grid_column": null,
            "overflow_y": null,
            "overflow_x": null,
            "grid_auto_flow": null,
            "grid_area": null,
            "grid_template_columns": null,
            "flex": null,
            "_model_name": "LayoutModel",
            "justify_items": null,
            "grid_row": null,
            "max_height": null,
            "align_content": null,
            "visibility": null,
            "align_self": null,
            "height": null,
            "min_height": null,
            "padding": null,
            "grid_auto_rows": null,
            "grid_gap": null,
            "max_width": null,
            "order": null,
            "_view_module_version": "1.2.0",
            "grid_template_areas": null,
            "object_position": null,
            "object_fit": null,
            "grid_auto_columns": null,
            "margin": null,
            "display": null,
            "left": null
          }
        },
        "9415ba9f4f5142279328e9c9ec3d440e": {
          "model_module": "@jupyter-widgets/controls",
          "model_name": "DescriptionStyleModel",
          "model_module_version": "1.5.0",
          "state": {
            "_view_name": "StyleView",
            "_model_name": "DescriptionStyleModel",
            "description_width": "",
            "_view_module": "@jupyter-widgets/base",
            "_model_module_version": "1.5.0",
            "_view_count": null,
            "_view_module_version": "1.2.0",
            "_model_module": "@jupyter-widgets/controls"
          }
        },
        "a32277b319514c259b33c0781cc24c9a": {
          "model_module": "@jupyter-widgets/base",
          "model_name": "LayoutModel",
          "model_module_version": "1.2.0",
          "state": {
            "_view_name": "LayoutView",
            "grid_template_rows": null,
            "right": null,
            "justify_content": null,
            "_view_module": "@jupyter-widgets/base",
            "overflow": null,
            "_model_module_version": "1.2.0",
            "_view_count": null,
            "flex_flow": null,
            "width": null,
            "min_width": null,
            "border": null,
            "align_items": null,
            "bottom": null,
            "_model_module": "@jupyter-widgets/base",
            "top": null,
            "grid_column": null,
            "overflow_y": null,
            "overflow_x": null,
            "grid_auto_flow": null,
            "grid_area": null,
            "grid_template_columns": null,
            "flex": null,
            "_model_name": "LayoutModel",
            "justify_items": null,
            "grid_row": null,
            "max_height": null,
            "align_content": null,
            "visibility": null,
            "align_self": null,
            "height": null,
            "min_height": null,
            "padding": null,
            "grid_auto_rows": null,
            "grid_gap": null,
            "max_width": null,
            "order": null,
            "_view_module_version": "1.2.0",
            "grid_template_areas": null,
            "object_position": null,
            "object_fit": null,
            "grid_auto_columns": null,
            "margin": null,
            "display": null,
            "left": null
          }
        },
        "f7bc462612ca44fbb92d2a8bced4e962": {
          "model_module": "@jupyter-widgets/controls",
          "model_name": "HBoxModel",
          "model_module_version": "1.5.0",
          "state": {
            "_view_name": "HBoxView",
            "_dom_classes": [],
            "_model_name": "HBoxModel",
            "_view_module": "@jupyter-widgets/controls",
            "_model_module_version": "1.5.0",
            "_view_count": null,
            "_view_module_version": "1.5.0",
            "box_style": "",
            "layout": "IPY_MODEL_c1f88dfbaf43416bb93a1a5355424011",
            "_model_module": "@jupyter-widgets/controls",
            "children": [
              "IPY_MODEL_e8b2d74188b74bbdbe481440a58b3b1c",
              "IPY_MODEL_47c52a120cd54054a11c30c3a909f369",
              "IPY_MODEL_0314cdd611204fd0b93f8b80ca1a8a43"
            ]
          }
        },
        "c1f88dfbaf43416bb93a1a5355424011": {
          "model_module": "@jupyter-widgets/base",
          "model_name": "LayoutModel",
          "model_module_version": "1.2.0",
          "state": {
            "_view_name": "LayoutView",
            "grid_template_rows": null,
            "right": null,
            "justify_content": null,
            "_view_module": "@jupyter-widgets/base",
            "overflow": null,
            "_model_module_version": "1.2.0",
            "_view_count": null,
            "flex_flow": null,
            "width": null,
            "min_width": null,
            "border": null,
            "align_items": null,
            "bottom": null,
            "_model_module": "@jupyter-widgets/base",
            "top": null,
            "grid_column": null,
            "overflow_y": null,
            "overflow_x": null,
            "grid_auto_flow": null,
            "grid_area": null,
            "grid_template_columns": null,
            "flex": null,
            "_model_name": "LayoutModel",
            "justify_items": null,
            "grid_row": null,
            "max_height": null,
            "align_content": null,
            "visibility": null,
            "align_self": null,
            "height": null,
            "min_height": null,
            "padding": null,
            "grid_auto_rows": null,
            "grid_gap": null,
            "max_width": null,
            "order": null,
            "_view_module_version": "1.2.0",
            "grid_template_areas": null,
            "object_position": null,
            "object_fit": null,
            "grid_auto_columns": null,
            "margin": null,
            "display": null,
            "left": null
          }
        },
        "e8b2d74188b74bbdbe481440a58b3b1c": {
          "model_module": "@jupyter-widgets/controls",
          "model_name": "HTMLModel",
          "model_module_version": "1.5.0",
          "state": {
            "_view_name": "HTMLView",
            "style": "IPY_MODEL_2db676a8f09c49ad86143a8fb262c427",
            "_dom_classes": [],
            "description": "",
            "_model_name": "HTMLModel",
            "placeholder": "​",
            "_view_module": "@jupyter-widgets/controls",
            "_model_module_version": "1.5.0",
            "value": "Downloading: 100%",
            "_view_count": null,
            "_view_module_version": "1.5.0",
            "description_tooltip": null,
            "_model_module": "@jupyter-widgets/controls",
            "layout": "IPY_MODEL_622d85b3cf884251a352a976f4a809f0"
          }
        },
        "47c52a120cd54054a11c30c3a909f369": {
          "model_module": "@jupyter-widgets/controls",
          "model_name": "FloatProgressModel",
          "model_module_version": "1.5.0",
          "state": {
            "_view_name": "ProgressView",
            "style": "IPY_MODEL_19d8d2bdf2ad485cb1b473acf6ae1305",
            "_dom_classes": [],
            "description": "",
            "_model_name": "FloatProgressModel",
            "bar_style": "success",
            "max": 468145,
            "_view_module": "@jupyter-widgets/controls",
            "_model_module_version": "1.5.0",
            "value": 468145,
            "_view_count": null,
            "_view_module_version": "1.5.0",
            "orientation": "horizontal",
            "min": 0,
            "description_tooltip": null,
            "_model_module": "@jupyter-widgets/controls",
            "layout": "IPY_MODEL_5e0e858df182432bba3431129f9d61e6"
          }
        },
        "0314cdd611204fd0b93f8b80ca1a8a43": {
          "model_module": "@jupyter-widgets/controls",
          "model_name": "HTMLModel",
          "model_module_version": "1.5.0",
          "state": {
            "_view_name": "HTMLView",
            "style": "IPY_MODEL_0da1f56238f04665a63ea4630b16815a",
            "_dom_classes": [],
            "description": "",
            "_model_name": "HTMLModel",
            "placeholder": "​",
            "_view_module": "@jupyter-widgets/controls",
            "_model_module_version": "1.5.0",
            "value": " 457k/457k [00:00&lt;00:00, 590kB/s]",
            "_view_count": null,
            "_view_module_version": "1.5.0",
            "description_tooltip": null,
            "_model_module": "@jupyter-widgets/controls",
            "layout": "IPY_MODEL_5b64e1eb6bec4280be8cc045a4890c72"
          }
        },
        "2db676a8f09c49ad86143a8fb262c427": {
          "model_module": "@jupyter-widgets/controls",
          "model_name": "DescriptionStyleModel",
          "model_module_version": "1.5.0",
          "state": {
            "_view_name": "StyleView",
            "_model_name": "DescriptionStyleModel",
            "description_width": "",
            "_view_module": "@jupyter-widgets/base",
            "_model_module_version": "1.5.0",
            "_view_count": null,
            "_view_module_version": "1.2.0",
            "_model_module": "@jupyter-widgets/controls"
          }
        },
        "622d85b3cf884251a352a976f4a809f0": {
          "model_module": "@jupyter-widgets/base",
          "model_name": "LayoutModel",
          "model_module_version": "1.2.0",
          "state": {
            "_view_name": "LayoutView",
            "grid_template_rows": null,
            "right": null,
            "justify_content": null,
            "_view_module": "@jupyter-widgets/base",
            "overflow": null,
            "_model_module_version": "1.2.0",
            "_view_count": null,
            "flex_flow": null,
            "width": null,
            "min_width": null,
            "border": null,
            "align_items": null,
            "bottom": null,
            "_model_module": "@jupyter-widgets/base",
            "top": null,
            "grid_column": null,
            "overflow_y": null,
            "overflow_x": null,
            "grid_auto_flow": null,
            "grid_area": null,
            "grid_template_columns": null,
            "flex": null,
            "_model_name": "LayoutModel",
            "justify_items": null,
            "grid_row": null,
            "max_height": null,
            "align_content": null,
            "visibility": null,
            "align_self": null,
            "height": null,
            "min_height": null,
            "padding": null,
            "grid_auto_rows": null,
            "grid_gap": null,
            "max_width": null,
            "order": null,
            "_view_module_version": "1.2.0",
            "grid_template_areas": null,
            "object_position": null,
            "object_fit": null,
            "grid_auto_columns": null,
            "margin": null,
            "display": null,
            "left": null
          }
        },
        "19d8d2bdf2ad485cb1b473acf6ae1305": {
          "model_module": "@jupyter-widgets/controls",
          "model_name": "ProgressStyleModel",
          "model_module_version": "1.5.0",
          "state": {
            "_view_name": "StyleView",
            "_model_name": "ProgressStyleModel",
            "description_width": "",
            "_view_module": "@jupyter-widgets/base",
            "_model_module_version": "1.5.0",
            "_view_count": null,
            "_view_module_version": "1.2.0",
            "bar_color": null,
            "_model_module": "@jupyter-widgets/controls"
          }
        },
        "5e0e858df182432bba3431129f9d61e6": {
          "model_module": "@jupyter-widgets/base",
          "model_name": "LayoutModel",
          "model_module_version": "1.2.0",
          "state": {
            "_view_name": "LayoutView",
            "grid_template_rows": null,
            "right": null,
            "justify_content": null,
            "_view_module": "@jupyter-widgets/base",
            "overflow": null,
            "_model_module_version": "1.2.0",
            "_view_count": null,
            "flex_flow": null,
            "width": null,
            "min_width": null,
            "border": null,
            "align_items": null,
            "bottom": null,
            "_model_module": "@jupyter-widgets/base",
            "top": null,
            "grid_column": null,
            "overflow_y": null,
            "overflow_x": null,
            "grid_auto_flow": null,
            "grid_area": null,
            "grid_template_columns": null,
            "flex": null,
            "_model_name": "LayoutModel",
            "justify_items": null,
            "grid_row": null,
            "max_height": null,
            "align_content": null,
            "visibility": null,
            "align_self": null,
            "height": null,
            "min_height": null,
            "padding": null,
            "grid_auto_rows": null,
            "grid_gap": null,
            "max_width": null,
            "order": null,
            "_view_module_version": "1.2.0",
            "grid_template_areas": null,
            "object_position": null,
            "object_fit": null,
            "grid_auto_columns": null,
            "margin": null,
            "display": null,
            "left": null
          }
        },
        "0da1f56238f04665a63ea4630b16815a": {
          "model_module": "@jupyter-widgets/controls",
          "model_name": "DescriptionStyleModel",
          "model_module_version": "1.5.0",
          "state": {
            "_view_name": "StyleView",
            "_model_name": "DescriptionStyleModel",
            "description_width": "",
            "_view_module": "@jupyter-widgets/base",
            "_model_module_version": "1.5.0",
            "_view_count": null,
            "_view_module_version": "1.2.0",
            "_model_module": "@jupyter-widgets/controls"
          }
        },
        "5b64e1eb6bec4280be8cc045a4890c72": {
          "model_module": "@jupyter-widgets/base",
          "model_name": "LayoutModel",
          "model_module_version": "1.2.0",
          "state": {
            "_view_name": "LayoutView",
            "grid_template_rows": null,
            "right": null,
            "justify_content": null,
            "_view_module": "@jupyter-widgets/base",
            "overflow": null,
            "_model_module_version": "1.2.0",
            "_view_count": null,
            "flex_flow": null,
            "width": null,
            "min_width": null,
            "border": null,
            "align_items": null,
            "bottom": null,
            "_model_module": "@jupyter-widgets/base",
            "top": null,
            "grid_column": null,
            "overflow_y": null,
            "overflow_x": null,
            "grid_auto_flow": null,
            "grid_area": null,
            "grid_template_columns": null,
            "flex": null,
            "_model_name": "LayoutModel",
            "justify_items": null,
            "grid_row": null,
            "max_height": null,
            "align_content": null,
            "visibility": null,
            "align_self": null,
            "height": null,
            "min_height": null,
            "padding": null,
            "grid_auto_rows": null,
            "grid_gap": null,
            "max_width": null,
            "order": null,
            "_view_module_version": "1.2.0",
            "grid_template_areas": null,
            "object_position": null,
            "object_fit": null,
            "grid_auto_columns": null,
            "margin": null,
            "display": null,
            "left": null
          }
        },
        "ae4c2e116b744e358704284e39b48d54": {
          "model_module": "@jupyter-widgets/controls",
          "model_name": "HBoxModel",
          "model_module_version": "1.5.0",
          "state": {
            "_view_name": "HBoxView",
            "_dom_classes": [],
            "_model_name": "HBoxModel",
            "_view_module": "@jupyter-widgets/controls",
            "_model_module_version": "1.5.0",
            "_view_count": null,
            "_view_module_version": "1.5.0",
            "box_style": "",
            "layout": "IPY_MODEL_d06445c425d342c29c82be6c4f074dbf",
            "_model_module": "@jupyter-widgets/controls",
            "children": [
              "IPY_MODEL_3dd98a22001c4ba582af1815e55293f2",
              "IPY_MODEL_c3ea677cf5134c2980f8e43029abd7ca",
              "IPY_MODEL_6b5af4628ef3472ebf8cb1046ad59303"
            ]
          }
        },
        "d06445c425d342c29c82be6c4f074dbf": {
          "model_module": "@jupyter-widgets/base",
          "model_name": "LayoutModel",
          "model_module_version": "1.2.0",
          "state": {
            "_view_name": "LayoutView",
            "grid_template_rows": null,
            "right": null,
            "justify_content": null,
            "_view_module": "@jupyter-widgets/base",
            "overflow": null,
            "_model_module_version": "1.2.0",
            "_view_count": null,
            "flex_flow": null,
            "width": null,
            "min_width": null,
            "border": null,
            "align_items": null,
            "bottom": null,
            "_model_module": "@jupyter-widgets/base",
            "top": null,
            "grid_column": null,
            "overflow_y": null,
            "overflow_x": null,
            "grid_auto_flow": null,
            "grid_area": null,
            "grid_template_columns": null,
            "flex": null,
            "_model_name": "LayoutModel",
            "justify_items": null,
            "grid_row": null,
            "max_height": null,
            "align_content": null,
            "visibility": null,
            "align_self": null,
            "height": null,
            "min_height": null,
            "padding": null,
            "grid_auto_rows": null,
            "grid_gap": null,
            "max_width": null,
            "order": null,
            "_view_module_version": "1.2.0",
            "grid_template_areas": null,
            "object_position": null,
            "object_fit": null,
            "grid_auto_columns": null,
            "margin": null,
            "display": null,
            "left": null
          }
        },
        "3dd98a22001c4ba582af1815e55293f2": {
          "model_module": "@jupyter-widgets/controls",
          "model_name": "HTMLModel",
          "model_module_version": "1.5.0",
          "state": {
            "_view_name": "HTMLView",
            "style": "IPY_MODEL_a0c46736d1294f96a58ac0f87fcff3a4",
            "_dom_classes": [],
            "description": "",
            "_model_name": "HTMLModel",
            "placeholder": "​",
            "_view_module": "@jupyter-widgets/controls",
            "_model_module_version": "1.5.0",
            "value": "Downloading: 100%",
            "_view_count": null,
            "_view_module_version": "1.5.0",
            "description_tooltip": null,
            "_model_module": "@jupyter-widgets/controls",
            "layout": "IPY_MODEL_a26e1d62083749aa9c8c621fa7fe5848"
          }
        },
        "c3ea677cf5134c2980f8e43029abd7ca": {
          "model_module": "@jupyter-widgets/controls",
          "model_name": "FloatProgressModel",
          "model_module_version": "1.5.0",
          "state": {
            "_view_name": "ProgressView",
            "style": "IPY_MODEL_79c2406a19d640fbbe28109727924356",
            "_dom_classes": [],
            "description": "",
            "_model_name": "FloatProgressModel",
            "bar_style": "success",
            "max": 112,
            "_view_module": "@jupyter-widgets/controls",
            "_model_module_version": "1.5.0",
            "value": 112,
            "_view_count": null,
            "_view_module_version": "1.5.0",
            "orientation": "horizontal",
            "min": 0,
            "description_tooltip": null,
            "_model_module": "@jupyter-widgets/controls",
            "layout": "IPY_MODEL_e74e5e4e95aa4a8bb15f2c893bbc1672"
          }
        },
        "6b5af4628ef3472ebf8cb1046ad59303": {
          "model_module": "@jupyter-widgets/controls",
          "model_name": "HTMLModel",
          "model_module_version": "1.5.0",
          "state": {
            "_view_name": "HTMLView",
            "style": "IPY_MODEL_f3ed522f03f241cda5261309d3923caa",
            "_dom_classes": [],
            "description": "",
            "_model_name": "HTMLModel",
            "placeholder": "​",
            "_view_module": "@jupyter-widgets/controls",
            "_model_module_version": "1.5.0",
            "value": " 112/112 [00:00&lt;00:00, 970B/s]",
            "_view_count": null,
            "_view_module_version": "1.5.0",
            "description_tooltip": null,
            "_model_module": "@jupyter-widgets/controls",
            "layout": "IPY_MODEL_9a29acc423324c158e704b811b34448b"
          }
        },
        "a0c46736d1294f96a58ac0f87fcff3a4": {
          "model_module": "@jupyter-widgets/controls",
          "model_name": "DescriptionStyleModel",
          "model_module_version": "1.5.0",
          "state": {
            "_view_name": "StyleView",
            "_model_name": "DescriptionStyleModel",
            "description_width": "",
            "_view_module": "@jupyter-widgets/base",
            "_model_module_version": "1.5.0",
            "_view_count": null,
            "_view_module_version": "1.2.0",
            "_model_module": "@jupyter-widgets/controls"
          }
        },
        "a26e1d62083749aa9c8c621fa7fe5848": {
          "model_module": "@jupyter-widgets/base",
          "model_name": "LayoutModel",
          "model_module_version": "1.2.0",
          "state": {
            "_view_name": "LayoutView",
            "grid_template_rows": null,
            "right": null,
            "justify_content": null,
            "_view_module": "@jupyter-widgets/base",
            "overflow": null,
            "_model_module_version": "1.2.0",
            "_view_count": null,
            "flex_flow": null,
            "width": null,
            "min_width": null,
            "border": null,
            "align_items": null,
            "bottom": null,
            "_model_module": "@jupyter-widgets/base",
            "top": null,
            "grid_column": null,
            "overflow_y": null,
            "overflow_x": null,
            "grid_auto_flow": null,
            "grid_area": null,
            "grid_template_columns": null,
            "flex": null,
            "_model_name": "LayoutModel",
            "justify_items": null,
            "grid_row": null,
            "max_height": null,
            "align_content": null,
            "visibility": null,
            "align_self": null,
            "height": null,
            "min_height": null,
            "padding": null,
            "grid_auto_rows": null,
            "grid_gap": null,
            "max_width": null,
            "order": null,
            "_view_module_version": "1.2.0",
            "grid_template_areas": null,
            "object_position": null,
            "object_fit": null,
            "grid_auto_columns": null,
            "margin": null,
            "display": null,
            "left": null
          }
        },
        "79c2406a19d640fbbe28109727924356": {
          "model_module": "@jupyter-widgets/controls",
          "model_name": "ProgressStyleModel",
          "model_module_version": "1.5.0",
          "state": {
            "_view_name": "StyleView",
            "_model_name": "ProgressStyleModel",
            "description_width": "",
            "_view_module": "@jupyter-widgets/base",
            "_model_module_version": "1.5.0",
            "_view_count": null,
            "_view_module_version": "1.2.0",
            "bar_color": null,
            "_model_module": "@jupyter-widgets/controls"
          }
        },
        "e74e5e4e95aa4a8bb15f2c893bbc1672": {
          "model_module": "@jupyter-widgets/base",
          "model_name": "LayoutModel",
          "model_module_version": "1.2.0",
          "state": {
            "_view_name": "LayoutView",
            "grid_template_rows": null,
            "right": null,
            "justify_content": null,
            "_view_module": "@jupyter-widgets/base",
            "overflow": null,
            "_model_module_version": "1.2.0",
            "_view_count": null,
            "flex_flow": null,
            "width": null,
            "min_width": null,
            "border": null,
            "align_items": null,
            "bottom": null,
            "_model_module": "@jupyter-widgets/base",
            "top": null,
            "grid_column": null,
            "overflow_y": null,
            "overflow_x": null,
            "grid_auto_flow": null,
            "grid_area": null,
            "grid_template_columns": null,
            "flex": null,
            "_model_name": "LayoutModel",
            "justify_items": null,
            "grid_row": null,
            "max_height": null,
            "align_content": null,
            "visibility": null,
            "align_self": null,
            "height": null,
            "min_height": null,
            "padding": null,
            "grid_auto_rows": null,
            "grid_gap": null,
            "max_width": null,
            "order": null,
            "_view_module_version": "1.2.0",
            "grid_template_areas": null,
            "object_position": null,
            "object_fit": null,
            "grid_auto_columns": null,
            "margin": null,
            "display": null,
            "left": null
          }
        },
        "f3ed522f03f241cda5261309d3923caa": {
          "model_module": "@jupyter-widgets/controls",
          "model_name": "DescriptionStyleModel",
          "model_module_version": "1.5.0",
          "state": {
            "_view_name": "StyleView",
            "_model_name": "DescriptionStyleModel",
            "description_width": "",
            "_view_module": "@jupyter-widgets/base",
            "_model_module_version": "1.5.0",
            "_view_count": null,
            "_view_module_version": "1.2.0",
            "_model_module": "@jupyter-widgets/controls"
          }
        },
        "9a29acc423324c158e704b811b34448b": {
          "model_module": "@jupyter-widgets/base",
          "model_name": "LayoutModel",
          "model_module_version": "1.2.0",
          "state": {
            "_view_name": "LayoutView",
            "grid_template_rows": null,
            "right": null,
            "justify_content": null,
            "_view_module": "@jupyter-widgets/base",
            "overflow": null,
            "_model_module_version": "1.2.0",
            "_view_count": null,
            "flex_flow": null,
            "width": null,
            "min_width": null,
            "border": null,
            "align_items": null,
            "bottom": null,
            "_model_module": "@jupyter-widgets/base",
            "top": null,
            "grid_column": null,
            "overflow_y": null,
            "overflow_x": null,
            "grid_auto_flow": null,
            "grid_area": null,
            "grid_template_columns": null,
            "flex": null,
            "_model_name": "LayoutModel",
            "justify_items": null,
            "grid_row": null,
            "max_height": null,
            "align_content": null,
            "visibility": null,
            "align_self": null,
            "height": null,
            "min_height": null,
            "padding": null,
            "grid_auto_rows": null,
            "grid_gap": null,
            "max_width": null,
            "order": null,
            "_view_module_version": "1.2.0",
            "grid_template_areas": null,
            "object_position": null,
            "object_fit": null,
            "grid_auto_columns": null,
            "margin": null,
            "display": null,
            "left": null
          }
        },
        "07aae8be99c7422b94bf400f1e9a2d8d": {
          "model_module": "@jupyter-widgets/controls",
          "model_name": "HBoxModel",
          "model_module_version": "1.5.0",
          "state": {
            "_view_name": "HBoxView",
            "_dom_classes": [],
            "_model_name": "HBoxModel",
            "_view_module": "@jupyter-widgets/controls",
            "_model_module_version": "1.5.0",
            "_view_count": null,
            "_view_module_version": "1.5.0",
            "box_style": "",
            "layout": "IPY_MODEL_fec31a5d23ea4237ab1729f60ee3adff",
            "_model_module": "@jupyter-widgets/controls",
            "children": [
              "IPY_MODEL_a2a105b71a124205b643106de533d75d",
              "IPY_MODEL_14156ae369094019876681f23a6f9fa0",
              "IPY_MODEL_4aa7ded0821644c7b447e867701af662"
            ]
          }
        },
        "fec31a5d23ea4237ab1729f60ee3adff": {
          "model_module": "@jupyter-widgets/base",
          "model_name": "LayoutModel",
          "model_module_version": "1.2.0",
          "state": {
            "_view_name": "LayoutView",
            "grid_template_rows": null,
            "right": null,
            "justify_content": null,
            "_view_module": "@jupyter-widgets/base",
            "overflow": null,
            "_model_module_version": "1.2.0",
            "_view_count": null,
            "flex_flow": null,
            "width": null,
            "min_width": null,
            "border": null,
            "align_items": null,
            "bottom": null,
            "_model_module": "@jupyter-widgets/base",
            "top": null,
            "grid_column": null,
            "overflow_y": null,
            "overflow_x": null,
            "grid_auto_flow": null,
            "grid_area": null,
            "grid_template_columns": null,
            "flex": null,
            "_model_name": "LayoutModel",
            "justify_items": null,
            "grid_row": null,
            "max_height": null,
            "align_content": null,
            "visibility": null,
            "align_self": null,
            "height": null,
            "min_height": null,
            "padding": null,
            "grid_auto_rows": null,
            "grid_gap": null,
            "max_width": null,
            "order": null,
            "_view_module_version": "1.2.0",
            "grid_template_areas": null,
            "object_position": null,
            "object_fit": null,
            "grid_auto_columns": null,
            "margin": null,
            "display": null,
            "left": null
          }
        },
        "a2a105b71a124205b643106de533d75d": {
          "model_module": "@jupyter-widgets/controls",
          "model_name": "HTMLModel",
          "model_module_version": "1.5.0",
          "state": {
            "_view_name": "HTMLView",
            "style": "IPY_MODEL_09565fccb1a74f34ae65498d50f721df",
            "_dom_classes": [],
            "description": "",
            "_model_name": "HTMLModel",
            "placeholder": "​",
            "_view_module": "@jupyter-widgets/controls",
            "_model_module_version": "1.5.0",
            "value": "Downloading: 100%",
            "_view_count": null,
            "_view_module_version": "1.5.0",
            "description_tooltip": null,
            "_model_module": "@jupyter-widgets/controls",
            "layout": "IPY_MODEL_9de9f789e08f4a3584c31bdf57feaae8"
          }
        },
        "14156ae369094019876681f23a6f9fa0": {
          "model_module": "@jupyter-widgets/controls",
          "model_name": "FloatProgressModel",
          "model_module_version": "1.5.0",
          "state": {
            "_view_name": "ProgressView",
            "style": "IPY_MODEL_243d6eb3b97d4c92b3301107a22ed9ae",
            "_dom_classes": [],
            "description": "",
            "_model_name": "FloatProgressModel",
            "bar_style": "success",
            "max": 47679974,
            "_view_module": "@jupyter-widgets/controls",
            "_model_module_version": "1.5.0",
            "value": 47679974,
            "_view_count": null,
            "_view_module_version": "1.5.0",
            "orientation": "horizontal",
            "min": 0,
            "description_tooltip": null,
            "_model_module": "@jupyter-widgets/controls",
            "layout": "IPY_MODEL_c431952883bb45f9878804b618d636c7"
          }
        },
        "4aa7ded0821644c7b447e867701af662": {
          "model_module": "@jupyter-widgets/controls",
          "model_name": "HTMLModel",
          "model_module_version": "1.5.0",
          "state": {
            "_view_name": "HTMLView",
            "style": "IPY_MODEL_427005f606984f649aa6e2720f481cc4",
            "_dom_classes": [],
            "description": "",
            "_model_name": "HTMLModel",
            "placeholder": "​",
            "_view_module": "@jupyter-widgets/controls",
            "_model_module_version": "1.5.0",
            "value": " 45.5M/45.5M [00:01&lt;00:00, 49.8MB/s]",
            "_view_count": null,
            "_view_module_version": "1.5.0",
            "description_tooltip": null,
            "_model_module": "@jupyter-widgets/controls",
            "layout": "IPY_MODEL_e1193e0f8eb64b9c8a97a072b0368855"
          }
        },
        "09565fccb1a74f34ae65498d50f721df": {
          "model_module": "@jupyter-widgets/controls",
          "model_name": "DescriptionStyleModel",
          "model_module_version": "1.5.0",
          "state": {
            "_view_name": "StyleView",
            "_model_name": "DescriptionStyleModel",
            "description_width": "",
            "_view_module": "@jupyter-widgets/base",
            "_model_module_version": "1.5.0",
            "_view_count": null,
            "_view_module_version": "1.2.0",
            "_model_module": "@jupyter-widgets/controls"
          }
        },
        "9de9f789e08f4a3584c31bdf57feaae8": {
          "model_module": "@jupyter-widgets/base",
          "model_name": "LayoutModel",
          "model_module_version": "1.2.0",
          "state": {
            "_view_name": "LayoutView",
            "grid_template_rows": null,
            "right": null,
            "justify_content": null,
            "_view_module": "@jupyter-widgets/base",
            "overflow": null,
            "_model_module_version": "1.2.0",
            "_view_count": null,
            "flex_flow": null,
            "width": null,
            "min_width": null,
            "border": null,
            "align_items": null,
            "bottom": null,
            "_model_module": "@jupyter-widgets/base",
            "top": null,
            "grid_column": null,
            "overflow_y": null,
            "overflow_x": null,
            "grid_auto_flow": null,
            "grid_area": null,
            "grid_template_columns": null,
            "flex": null,
            "_model_name": "LayoutModel",
            "justify_items": null,
            "grid_row": null,
            "max_height": null,
            "align_content": null,
            "visibility": null,
            "align_self": null,
            "height": null,
            "min_height": null,
            "padding": null,
            "grid_auto_rows": null,
            "grid_gap": null,
            "max_width": null,
            "order": null,
            "_view_module_version": "1.2.0",
            "grid_template_areas": null,
            "object_position": null,
            "object_fit": null,
            "grid_auto_columns": null,
            "margin": null,
            "display": null,
            "left": null
          }
        },
        "243d6eb3b97d4c92b3301107a22ed9ae": {
          "model_module": "@jupyter-widgets/controls",
          "model_name": "ProgressStyleModel",
          "model_module_version": "1.5.0",
          "state": {
            "_view_name": "StyleView",
            "_model_name": "ProgressStyleModel",
            "description_width": "",
            "_view_module": "@jupyter-widgets/base",
            "_model_module_version": "1.5.0",
            "_view_count": null,
            "_view_module_version": "1.2.0",
            "bar_color": null,
            "_model_module": "@jupyter-widgets/controls"
          }
        },
        "c431952883bb45f9878804b618d636c7": {
          "model_module": "@jupyter-widgets/base",
          "model_name": "LayoutModel",
          "model_module_version": "1.2.0",
          "state": {
            "_view_name": "LayoutView",
            "grid_template_rows": null,
            "right": null,
            "justify_content": null,
            "_view_module": "@jupyter-widgets/base",
            "overflow": null,
            "_model_module_version": "1.2.0",
            "_view_count": null,
            "flex_flow": null,
            "width": null,
            "min_width": null,
            "border": null,
            "align_items": null,
            "bottom": null,
            "_model_module": "@jupyter-widgets/base",
            "top": null,
            "grid_column": null,
            "overflow_y": null,
            "overflow_x": null,
            "grid_auto_flow": null,
            "grid_area": null,
            "grid_template_columns": null,
            "flex": null,
            "_model_name": "LayoutModel",
            "justify_items": null,
            "grid_row": null,
            "max_height": null,
            "align_content": null,
            "visibility": null,
            "align_self": null,
            "height": null,
            "min_height": null,
            "padding": null,
            "grid_auto_rows": null,
            "grid_gap": null,
            "max_width": null,
            "order": null,
            "_view_module_version": "1.2.0",
            "grid_template_areas": null,
            "object_position": null,
            "object_fit": null,
            "grid_auto_columns": null,
            "margin": null,
            "display": null,
            "left": null
          }
        },
        "427005f606984f649aa6e2720f481cc4": {
          "model_module": "@jupyter-widgets/controls",
          "model_name": "DescriptionStyleModel",
          "model_module_version": "1.5.0",
          "state": {
            "_view_name": "StyleView",
            "_model_name": "DescriptionStyleModel",
            "description_width": "",
            "_view_module": "@jupyter-widgets/base",
            "_model_module_version": "1.5.0",
            "_view_count": null,
            "_view_module_version": "1.2.0",
            "_model_module": "@jupyter-widgets/controls"
          }
        },
        "e1193e0f8eb64b9c8a97a072b0368855": {
          "model_module": "@jupyter-widgets/base",
          "model_name": "LayoutModel",
          "model_module_version": "1.2.0",
          "state": {
            "_view_name": "LayoutView",
            "grid_template_rows": null,
            "right": null,
            "justify_content": null,
            "_view_module": "@jupyter-widgets/base",
            "overflow": null,
            "_model_module_version": "1.2.0",
            "_view_count": null,
            "flex_flow": null,
            "width": null,
            "min_width": null,
            "border": null,
            "align_items": null,
            "bottom": null,
            "_model_module": "@jupyter-widgets/base",
            "top": null,
            "grid_column": null,
            "overflow_y": null,
            "overflow_x": null,
            "grid_auto_flow": null,
            "grid_area": null,
            "grid_template_columns": null,
            "flex": null,
            "_model_name": "LayoutModel",
            "justify_items": null,
            "grid_row": null,
            "max_height": null,
            "align_content": null,
            "visibility": null,
            "align_self": null,
            "height": null,
            "min_height": null,
            "padding": null,
            "grid_auto_rows": null,
            "grid_gap": null,
            "max_width": null,
            "order": null,
            "_view_module_version": "1.2.0",
            "grid_template_areas": null,
            "object_position": null,
            "object_fit": null,
            "grid_auto_columns": null,
            "margin": null,
            "display": null,
            "left": null
          }
        }
      }
    }
  },
  "nbformat": 4,
  "nbformat_minor": 5
}