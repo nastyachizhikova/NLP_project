{
 "cells": [
  {
   "cell_type": "code",
   "execution_count": 19,
   "metadata": {},
   "outputs": [],
   "source": [
    "gold_test_path = \"dev_aspects.txt\"\n",
    "pred_test_path = \"dev_pred_aspects.txt\""
   ]
  },
  {
   "cell_type": "markdown",
   "metadata": {},
   "source": [
    "# Оценка 1: accuracy по выделению упоминаний с категориями"
   ]
  },
  {
   "cell_type": "code",
   "execution_count": 20,
   "metadata": {},
   "outputs": [],
   "source": [
    "from collections import defaultdict"
   ]
  },
  {
   "cell_type": "code",
   "execution_count": 21,
   "metadata": {},
   "outputs": [],
   "source": [
    "gold_aspect_cats = {}\n",
    "with open(gold_test_path, encoding='utf-8') as fg:\n",
    "    for line in fg:\n",
    "        line = line.rstrip('\\r\\n').split('\\t')\n",
    "        if line[0] not in gold_aspect_cats:\n",
    "            gold_aspect_cats[line[0]] = {\"starts\":[], \"ends\":[], \"cats\":[], \"tokens\":[], \"sents\":[], }\n",
    "        gold_aspect_cats[line[0]][\"starts\"].append(int(line[3]))\n",
    "        gold_aspect_cats[line[0]][\"ends\"].append(int(line[4]))\n",
    "        gold_aspect_cats[line[0]][\"cats\"].append(line[1])\n",
    "        gold_aspect_cats[line[0]][\"sents\"].append(line[5])\n",
    "        gold_aspect_cats[line[0]][\"tokens\"].append(line[2])"
   ]
  },
  {
   "cell_type": "code",
   "execution_count": 22,
   "metadata": {},
   "outputs": [],
   "source": [
    "full_match, partial_match, full_cat_match, partial_cat_match = 0, 0, 0, 0\n",
    "total = 0\n",
    "fully_matched_pairs = []\n",
    "partially_matched_pairs = []\n",
    "with open(pred_test_path, encoding='utf-8') as fp:\n",
    "    for line in fp:    \n",
    "        total += 1\n",
    "        line = line.rstrip('\\r\\n').split('\\t')\n",
    "        start, end = int(line[3]), int(line[4])\n",
    "        category = line[1]\n",
    "        doc_gold_aspect_cats = gold_aspect_cats[line[0]]\n",
    "        if start in doc_gold_aspect_cats[\"starts\"]:\n",
    "            i = doc_gold_aspect_cats[\"starts\"].index(start)\n",
    "            if doc_gold_aspect_cats[\"ends\"][i] == end:\n",
    "                full_match += 1\n",
    "                if doc_gold_aspect_cats[\"cats\"][i] == category:\n",
    "                    full_cat_match += 1\n",
    "                else:\n",
    "                    partial_cat_match += 1\n",
    "                fully_matched_pairs.append(\n",
    "                    (\n",
    "                        [\n",
    "                            doc_gold_aspect_cats[\"starts\"][i], \n",
    "                            doc_gold_aspect_cats[\"ends\"][i], \n",
    "                            doc_gold_aspect_cats[\"tokens\"][i],\n",
    "                            doc_gold_aspect_cats[\"cats\"][i],\n",
    "                            doc_gold_aspect_cats[\"sents\"][i]\n",
    "                            \n",
    "                        ],\n",
    "                        line\n",
    "                    )\n",
    "                )\n",
    "                continue\n",
    "        for s_pos in doc_gold_aspect_cats[\"starts\"]:\n",
    "            if start <= s_pos:\n",
    "                i = doc_gold_aspect_cats[\"starts\"].index(s_pos)\n",
    "                if doc_gold_aspect_cats[\"ends\"][i] == end:\n",
    "                    partial_match += 1\n",
    "                    partially_matched_pairs.append(\n",
    "                        (\n",
    "                            [\n",
    "                                doc_gold_aspect_cats[\"starts\"][i], \n",
    "                                doc_gold_aspect_cats[\"ends\"][i],\n",
    "                                doc_gold_aspect_cats[\"tokens\"][i],\n",
    "                                doc_gold_aspect_cats[\"cats\"][i],\n",
    "                                doc_gold_aspect_cats[\"sents\"][i],\n",
    "                                \n",
    "                            ],\n",
    "                            line\n",
    "                        )\n",
    "                    )\n",
    "                    if doc_gold_aspect_cats[\"cats\"][i] == category:\n",
    "                        partial_cat_match += 1\n",
    "                    continue\n",
    "                matched = False\n",
    "                for e_pos in doc_gold_aspect_cats[\"ends\"][i:]:\n",
    "                    if s_pos <= end <= e_pos:\n",
    "                        partial_match += 1\n",
    "                        partially_matched_pairs.append(\n",
    "                            (\n",
    "                                [\n",
    "                                    doc_gold_aspect_cats[\"starts\"][i], \n",
    "                                    doc_gold_aspect_cats[\"ends\"][i],\n",
    "                                    doc_gold_aspect_cats[\"tokens\"][i],\n",
    "                                    doc_gold_aspect_cats[\"cats\"][i],\n",
    "                                    doc_gold_aspect_cats[\"sents\"][i],\n",
    "                                ],\n",
    "                                line\n",
    "                            )\n",
    "                        )\n",
    "                        if doc_gold_aspect_cats[\"cats\"][i] == category:\n",
    "                            partial_cat_match += 1\n",
    "                        matched = True\n",
    "                        break\n",
    "                if matched:\n",
    "                    break\n",
    "            if start > s_pos:\n",
    "                i = doc_gold_aspect_cats[\"starts\"].index(s_pos)\n",
    "                if start < doc_gold_aspect_cats[\"ends\"][i] <= end:\n",
    "                    partial_match += 1\n",
    "                    partially_matched_pairs.append(\n",
    "                        (\n",
    "                            [\n",
    "                                doc_gold_aspect_cats[\"starts\"][i], \n",
    "                                doc_gold_aspect_cats[\"ends\"][i], \n",
    "                                doc_gold_aspect_cats[\"cats\"][i],\n",
    "                                doc_gold_aspect_cats[\"tokens\"][i],\n",
    "                                doc_gold_aspect_cats[\"sents\"][i]\n",
    "                            ],\n",
    "                            line\n",
    "                        )\n",
    "                    )\n",
    "                    if doc_gold_aspect_cats[\"cats\"][i] == category:\n",
    "                        partial_cat_match += 1\n",
    "                    break"
   ]
  },
  {
   "cell_type": "code",
   "execution_count": 23,
   "metadata": {},
   "outputs": [],
   "source": [
    "gold_size = sum([len(gold_aspect_cats[x][\"cats\"]) for x in gold_aspect_cats])"
   ]
  },
  {
   "cell_type": "code",
   "execution_count": 24,
   "metadata": {},
   "outputs": [
    {
     "name": "stdout",
     "output_type": "stream",
     "text": [
      "\n",
      "Full match precision: 0.45054945054945056\n",
      "Full match recall: 0.7579831932773109\n",
      "\n",
      "Partial match ratio in pred: 0.5959040959040959\n",
      "\n",
      "Full category accuracy: 0.43456543456543456\n",
      "Partial category accuracy: 0.577922077922078\n",
      "\n"
     ]
    }
   ],
   "source": [
    "print(f\"\"\"\n",
    "Full match precision: {full_match / total}\n",
    "Full match recall: {full_match / gold_size}\n",
    "\n",
    "Partial match ratio in pred: {(full_match + partial_match)  / total}\n",
    "\n",
    "Full category accuracy: {full_cat_match / total}\n",
    "Partial category accuracy: {(full_cat_match + partial_cat_match) / total}\n",
    "\"\"\")\n"
   ]
  },
  {
   "cell_type": "markdown",
   "metadata": {},
   "source": [
    "# Оценка 2: accuracy по тональности упоминаний"
   ]
  },
  {
   "cell_type": "code",
   "execution_count": 25,
   "metadata": {},
   "outputs": [],
   "source": [
    "def sentiment_accuracy(matches):\n",
    "    matched_sentiment = 0.\n",
    "    for pair in matches:\n",
    "        *_, gold_s = pair[0]\n",
    "        *_, pred_s = pair[1]\n",
    "        if gold_s == pred_s:\n",
    "            matched_sentiment += 1\n",
    "    print(f\"Mention sentiment accuracy: {matched_sentiment / len(matches)}\")"
   ]
  },
  {
   "cell_type": "markdown",
   "metadata": {},
   "source": [
    "Accuracy по полностью совпавшим упоминаниям:"
   ]
  },
  {
   "cell_type": "code",
   "execution_count": 26,
   "metadata": {},
   "outputs": [
    {
     "name": "stdout",
     "output_type": "stream",
     "text": [
      "Mention sentiment accuracy: 0.7638580931263859\n"
     ]
    }
   ],
   "source": [
    "sentiment_accuracy(fully_matched_pairs)"
   ]
  },
  {
   "cell_type": "markdown",
   "metadata": {},
   "source": [
    "Accuracy по частично совпавшим упоминаниям:"
   ]
  },
  {
   "cell_type": "code",
   "execution_count": 27,
   "metadata": {},
   "outputs": [
    {
     "name": "stdout",
     "output_type": "stream",
     "text": [
      "Mention sentiment accuracy: 0.7663230240549829\n"
     ]
    }
   ],
   "source": [
    "sentiment_accuracy(partially_matched_pairs)"
   ]
  },
  {
   "cell_type": "markdown",
   "metadata": {},
   "source": [
    "# Оценка 3: accuracy по тональности категории"
   ]
  },
  {
   "cell_type": "code",
   "execution_count": 28,
   "metadata": {},
   "outputs": [],
   "source": [
    "gold_test_cats_path = \"dev_cats.txt\"\n",
    "pred_test_cats_path = \"dev_pred_cats.txt\""
   ]
  },
  {
   "cell_type": "code",
   "execution_count": 29,
   "metadata": {},
   "outputs": [
    {
     "name": "stdout",
     "output_type": "stream",
     "text": [
      "Overall sentiment accuracy: 0.7126760563380282\n"
     ]
    }
   ],
   "source": [
    "with open(gold_test_cats_path) as gc, open(pred_test_cats_path) as pc:\n",
    "    gold_labels = set(gc.readlines())\n",
    "    pred_labels = set(pc.readlines())\n",
    "    print(\n",
    "        \"Overall sentiment accuracy:\",\n",
    "        len(gold_labels & pred_labels) / len(gold_labels)\n",
    "    )"
   ]
  },
  {
   "cell_type": "code",
   "execution_count": null,
   "metadata": {},
   "outputs": [],
   "source": []
  }
 ],
 "metadata": {
  "kernelspec": {
   "display_name": "Python 3 (ipykernel)",
   "language": "python",
   "name": "python3"
  },
  "language_info": {
   "codemirror_mode": {
    "name": "ipython",
    "version": 3
   },
   "file_extension": ".py",
   "mimetype": "text/x-python",
   "name": "python",
   "nbconvert_exporter": "python",
   "pygments_lexer": "ipython3",
   "version": "3.7.3"
  }
 },
 "nbformat": 4,
 "nbformat_minor": 5
}
