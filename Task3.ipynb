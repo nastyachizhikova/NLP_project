{
  "nbformat": 4,
  "nbformat_minor": 0,
  "metadata": {
    "colab": {
      "name": "Task3.ipynb",
      "provenance": [],
      "collapsed_sections": []
    },
    "kernelspec": {
      "name": "python3",
      "display_name": "Python 3"
    },
    "language_info": {
      "name": "python"
    }
  },
  "cells": [
    {
      "cell_type": "code",
      "execution_count": 1,
      "metadata": {
        "id": "Yf48NCiArBD2"
      },
      "outputs": [],
      "source": [
        "import pickle\n",
        "import pandas as pd"
      ]
    },
    {
      "cell_type": "code",
      "source": [
        "from google.colab import drive\n",
        "\n",
        "drive.mount('/content/gdrive/')\n",
        "% cd '/content/gdrive/MyDrive/Colab Notebooks/university'"
      ],
      "metadata": {
        "colab": {
          "base_uri": "https://localhost:8080/"
        },
        "id": "fIm4BE9BrH3U",
        "outputId": "428eb2b5-6735-41ce-dfa8-e35bc7f96eed"
      },
      "execution_count": 2,
      "outputs": [
        {
          "output_type": "stream",
          "name": "stdout",
          "text": [
            "Mounted at /content/gdrive/\n",
            "/content/gdrive/MyDrive/Colab Notebooks/university\n"
          ]
        }
      ]
    },
    {
      "cell_type": "code",
      "source": [
        "with open('confs.pkl', 'rb') as file:\n",
        "  pred_confs = pickle.load(file)\n",
        "\n",
        "dev_pred_asp = pd.read_csv(\n",
        "    'dev_pred_aspects.txt', \n",
        "    delimiter='\\t', \n",
        "    names=['text_id', 'category', 'mention', 'start', 'end', 'sentiment']\n",
        ")"
      ],
      "metadata": {
        "id": "SbnS8amUrPZE"
      },
      "execution_count": 130,
      "outputs": []
    },
    {
      "cell_type": "code",
      "source": [
        "dev_pred_asp['conf'] = pred_confs"
      ],
      "metadata": {
        "id": "hcYPfjRZuPpS"
      },
      "execution_count": 131,
      "outputs": []
    },
    {
      "cell_type": "code",
      "source": [
        "mapper = {'positive': 1, 'neutral': 0, 'negative': -1}"
      ],
      "metadata": {
        "id": "qUyQLBd3uUMn"
      },
      "execution_count": 132,
      "outputs": []
    },
    {
      "cell_type": "code",
      "source": [
        "dev_pred_asp['grade'] = dev_pred_asp.sentiment.map(mapper)"
      ],
      "metadata": {
        "id": "vINQ5l-lyLc_"
      },
      "execution_count": 133,
      "outputs": []
    },
    {
      "cell_type": "markdown",
      "source": [
        "Нормализуем уверенности в пределах одной категории для каждого текста"
      ],
      "metadata": {
        "id": "t0FkGkuU60vt"
      }
    },
    {
      "cell_type": "code",
      "source": [
        "dev_pred_asp['conf'] = dev_pred_asp['conf'] / dev_pred_asp.groupby(['text_id', 'category'], observed=True)['conf'].transform('sum')"
      ],
      "metadata": {
        "id": "zoJnr-Sr6AJE"
      },
      "execution_count": 134,
      "outputs": []
    },
    {
      "cell_type": "code",
      "source": [
        "dev_pred_asp.head()"
      ],
      "metadata": {
        "colab": {
          "base_uri": "https://localhost:8080/",
          "height": 206
        },
        "id": "6q5HmSNp7mYI",
        "outputId": "7aaf9739-6098-4dc0-9e35-687ab8e7d3d4"
      },
      "execution_count": 135,
      "outputs": [
        {
          "output_type": "execute_result",
          "data": {
            "text/html": [
              "\n",
              "  <div id=\"df-dd1cba61-c960-471d-a71f-e0058a092a9c\">\n",
              "    <div class=\"colab-df-container\">\n",
              "      <div>\n",
              "<style scoped>\n",
              "    .dataframe tbody tr th:only-of-type {\n",
              "        vertical-align: middle;\n",
              "    }\n",
              "\n",
              "    .dataframe tbody tr th {\n",
              "        vertical-align: top;\n",
              "    }\n",
              "\n",
              "    .dataframe thead th {\n",
              "        text-align: right;\n",
              "    }\n",
              "</style>\n",
              "<table border=\"1\" class=\"dataframe\">\n",
              "  <thead>\n",
              "    <tr style=\"text-align: right;\">\n",
              "      <th></th>\n",
              "      <th>text_id</th>\n",
              "      <th>category</th>\n",
              "      <th>mention</th>\n",
              "      <th>start</th>\n",
              "      <th>end</th>\n",
              "      <th>sentiment</th>\n",
              "      <th>conf</th>\n",
              "      <th>grade</th>\n",
              "    </tr>\n",
              "  </thead>\n",
              "  <tbody>\n",
              "    <tr>\n",
              "      <th>0</th>\n",
              "      <td>13823</td>\n",
              "      <td>Service</td>\n",
              "      <td>приняла заказ</td>\n",
              "      <td>254</td>\n",
              "      <td>267</td>\n",
              "      <td>positive</td>\n",
              "      <td>0.083149</td>\n",
              "      <td>1</td>\n",
              "    </tr>\n",
              "    <tr>\n",
              "      <th>1</th>\n",
              "      <td>13823</td>\n",
              "      <td>Service</td>\n",
              "      <td>дала меню</td>\n",
              "      <td>208</td>\n",
              "      <td>217</td>\n",
              "      <td>positive</td>\n",
              "      <td>0.083149</td>\n",
              "      <td>1</td>\n",
              "    </tr>\n",
              "    <tr>\n",
              "      <th>2</th>\n",
              "      <td>13823</td>\n",
              "      <td>Service</td>\n",
              "      <td>качество обслуживания</td>\n",
              "      <td>671</td>\n",
              "      <td>692</td>\n",
              "      <td>positive</td>\n",
              "      <td>0.125830</td>\n",
              "      <td>1</td>\n",
              "    </tr>\n",
              "    <tr>\n",
              "      <th>3</th>\n",
              "      <td>13823</td>\n",
              "      <td>Service</td>\n",
              "      <td>проводила к столу</td>\n",
              "      <td>188</td>\n",
              "      <td>205</td>\n",
              "      <td>positive</td>\n",
              "      <td>0.083149</td>\n",
              "      <td>1</td>\n",
              "    </tr>\n",
              "    <tr>\n",
              "      <th>4</th>\n",
              "      <td>13823</td>\n",
              "      <td>Whole</td>\n",
              "      <td>ресторан</td>\n",
              "      <td>337</td>\n",
              "      <td>345</td>\n",
              "      <td>positive</td>\n",
              "      <td>0.142316</td>\n",
              "      <td>1</td>\n",
              "    </tr>\n",
              "  </tbody>\n",
              "</table>\n",
              "</div>\n",
              "      <button class=\"colab-df-convert\" onclick=\"convertToInteractive('df-dd1cba61-c960-471d-a71f-e0058a092a9c')\"\n",
              "              title=\"Convert this dataframe to an interactive table.\"\n",
              "              style=\"display:none;\">\n",
              "        \n",
              "  <svg xmlns=\"http://www.w3.org/2000/svg\" height=\"24px\"viewBox=\"0 0 24 24\"\n",
              "       width=\"24px\">\n",
              "    <path d=\"M0 0h24v24H0V0z\" fill=\"none\"/>\n",
              "    <path d=\"M18.56 5.44l.94 2.06.94-2.06 2.06-.94-2.06-.94-.94-2.06-.94 2.06-2.06.94zm-11 1L8.5 8.5l.94-2.06 2.06-.94-2.06-.94L8.5 2.5l-.94 2.06-2.06.94zm10 10l.94 2.06.94-2.06 2.06-.94-2.06-.94-.94-2.06-.94 2.06-2.06.94z\"/><path d=\"M17.41 7.96l-1.37-1.37c-.4-.4-.92-.59-1.43-.59-.52 0-1.04.2-1.43.59L10.3 9.45l-7.72 7.72c-.78.78-.78 2.05 0 2.83L4 21.41c.39.39.9.59 1.41.59.51 0 1.02-.2 1.41-.59l7.78-7.78 2.81-2.81c.8-.78.8-2.07 0-2.86zM5.41 20L4 18.59l7.72-7.72 1.47 1.35L5.41 20z\"/>\n",
              "  </svg>\n",
              "      </button>\n",
              "      \n",
              "  <style>\n",
              "    .colab-df-container {\n",
              "      display:flex;\n",
              "      flex-wrap:wrap;\n",
              "      gap: 12px;\n",
              "    }\n",
              "\n",
              "    .colab-df-convert {\n",
              "      background-color: #E8F0FE;\n",
              "      border: none;\n",
              "      border-radius: 50%;\n",
              "      cursor: pointer;\n",
              "      display: none;\n",
              "      fill: #1967D2;\n",
              "      height: 32px;\n",
              "      padding: 0 0 0 0;\n",
              "      width: 32px;\n",
              "    }\n",
              "\n",
              "    .colab-df-convert:hover {\n",
              "      background-color: #E2EBFA;\n",
              "      box-shadow: 0px 1px 2px rgba(60, 64, 67, 0.3), 0px 1px 3px 1px rgba(60, 64, 67, 0.15);\n",
              "      fill: #174EA6;\n",
              "    }\n",
              "\n",
              "    [theme=dark] .colab-df-convert {\n",
              "      background-color: #3B4455;\n",
              "      fill: #D2E3FC;\n",
              "    }\n",
              "\n",
              "    [theme=dark] .colab-df-convert:hover {\n",
              "      background-color: #434B5C;\n",
              "      box-shadow: 0px 1px 3px 1px rgba(0, 0, 0, 0.15);\n",
              "      filter: drop-shadow(0px 1px 2px rgba(0, 0, 0, 0.3));\n",
              "      fill: #FFFFFF;\n",
              "    }\n",
              "  </style>\n",
              "\n",
              "      <script>\n",
              "        const buttonEl =\n",
              "          document.querySelector('#df-dd1cba61-c960-471d-a71f-e0058a092a9c button.colab-df-convert');\n",
              "        buttonEl.style.display =\n",
              "          google.colab.kernel.accessAllowed ? 'block' : 'none';\n",
              "\n",
              "        async function convertToInteractive(key) {\n",
              "          const element = document.querySelector('#df-dd1cba61-c960-471d-a71f-e0058a092a9c');\n",
              "          const dataTable =\n",
              "            await google.colab.kernel.invokeFunction('convertToInteractive',\n",
              "                                                     [key], {});\n",
              "          if (!dataTable) return;\n",
              "\n",
              "          const docLinkHtml = 'Like what you see? Visit the ' +\n",
              "            '<a target=\"_blank\" href=https://colab.research.google.com/notebooks/data_table.ipynb>data table notebook</a>'\n",
              "            + ' to learn more about interactive tables.';\n",
              "          element.innerHTML = '';\n",
              "          dataTable['output_type'] = 'display_data';\n",
              "          await google.colab.output.renderOutput(dataTable, element);\n",
              "          const docLink = document.createElement('div');\n",
              "          docLink.innerHTML = docLinkHtml;\n",
              "          element.appendChild(docLink);\n",
              "        }\n",
              "      </script>\n",
              "    </div>\n",
              "  </div>\n",
              "  "
            ],
            "text/plain": [
              "   text_id category                mention  ...  sentiment      conf grade\n",
              "0    13823  Service          приняла заказ  ...   positive  0.083149     1\n",
              "1    13823  Service              дала меню  ...   positive  0.083149     1\n",
              "2    13823  Service  качество обслуживания  ...   positive  0.125830     1\n",
              "3    13823  Service      проводила к столу  ...   positive  0.083149     1\n",
              "4    13823    Whole               ресторан  ...   positive  0.142316     1\n",
              "\n",
              "[5 rows x 8 columns]"
            ]
          },
          "metadata": {},
          "execution_count": 135
        }
      ]
    },
    {
      "cell_type": "markdown",
      "source": [
        "Посчитаем взвешенную сумму оценок для каждой категории по каждому тексту (вес - нормализованная уверенность модели)"
      ],
      "metadata": {
        "id": "178wIoS5KvVd"
      }
    },
    {
      "cell_type": "code",
      "source": [
        "dev_pred_asp['weigh_grade'] = dev_pred_asp.grade * dev_pred_asp.conf"
      ],
      "metadata": {
        "id": "z4mdt78hus95"
      },
      "execution_count": 136,
      "outputs": []
    },
    {
      "cell_type": "code",
      "source": [
        "aggregated = pd.DataFrame(dev_pred_asp.groupby(['text_id', 'category']).agg({'weigh_grade':['count', 'sum']}))"
      ],
      "metadata": {
        "id": "neh1QzYFu2gk"
      },
      "execution_count": 137,
      "outputs": []
    },
    {
      "cell_type": "code",
      "source": [
        "aggregated.head()"
      ],
      "metadata": {
        "colab": {
          "base_uri": "https://localhost:8080/",
          "height": 268
        },
        "id": "MLSE2_QuDhir",
        "outputId": "84b59193-4d27-41ae-9e94-cc4249a91202"
      },
      "execution_count": 138,
      "outputs": [
        {
          "output_type": "execute_result",
          "data": {
            "text/html": [
              "\n",
              "  <div id=\"df-fe57e70b-78e5-4188-88ec-f4c2c153ef6b\">\n",
              "    <div class=\"colab-df-container\">\n",
              "      <div>\n",
              "<style scoped>\n",
              "    .dataframe tbody tr th:only-of-type {\n",
              "        vertical-align: middle;\n",
              "    }\n",
              "\n",
              "    .dataframe tbody tr th {\n",
              "        vertical-align: top;\n",
              "    }\n",
              "\n",
              "    .dataframe thead tr th {\n",
              "        text-align: left;\n",
              "    }\n",
              "\n",
              "    .dataframe thead tr:last-of-type th {\n",
              "        text-align: right;\n",
              "    }\n",
              "</style>\n",
              "<table border=\"1\" class=\"dataframe\">\n",
              "  <thead>\n",
              "    <tr>\n",
              "      <th></th>\n",
              "      <th></th>\n",
              "      <th colspan=\"2\" halign=\"left\">weigh_grade</th>\n",
              "    </tr>\n",
              "    <tr>\n",
              "      <th></th>\n",
              "      <th></th>\n",
              "      <th>count</th>\n",
              "      <th>sum</th>\n",
              "    </tr>\n",
              "    <tr>\n",
              "      <th>text_id</th>\n",
              "      <th>category</th>\n",
              "      <th></th>\n",
              "      <th></th>\n",
              "    </tr>\n",
              "  </thead>\n",
              "  <tbody>\n",
              "    <tr>\n",
              "      <th rowspan=\"5\" valign=\"top\">785</th>\n",
              "      <th>Food</th>\n",
              "      <td>5</td>\n",
              "      <td>-0.000927</td>\n",
              "    </tr>\n",
              "    <tr>\n",
              "      <th>Interior</th>\n",
              "      <td>3</td>\n",
              "      <td>0.758322</td>\n",
              "    </tr>\n",
              "    <tr>\n",
              "      <th>Price</th>\n",
              "      <td>1</td>\n",
              "      <td>0.000000</td>\n",
              "    </tr>\n",
              "    <tr>\n",
              "      <th>Service</th>\n",
              "      <td>7</td>\n",
              "      <td>0.607027</td>\n",
              "    </tr>\n",
              "    <tr>\n",
              "      <th>Whole</th>\n",
              "      <td>3</td>\n",
              "      <td>1.000000</td>\n",
              "    </tr>\n",
              "  </tbody>\n",
              "</table>\n",
              "</div>\n",
              "      <button class=\"colab-df-convert\" onclick=\"convertToInteractive('df-fe57e70b-78e5-4188-88ec-f4c2c153ef6b')\"\n",
              "              title=\"Convert this dataframe to an interactive table.\"\n",
              "              style=\"display:none;\">\n",
              "        \n",
              "  <svg xmlns=\"http://www.w3.org/2000/svg\" height=\"24px\"viewBox=\"0 0 24 24\"\n",
              "       width=\"24px\">\n",
              "    <path d=\"M0 0h24v24H0V0z\" fill=\"none\"/>\n",
              "    <path d=\"M18.56 5.44l.94 2.06.94-2.06 2.06-.94-2.06-.94-.94-2.06-.94 2.06-2.06.94zm-11 1L8.5 8.5l.94-2.06 2.06-.94-2.06-.94L8.5 2.5l-.94 2.06-2.06.94zm10 10l.94 2.06.94-2.06 2.06-.94-2.06-.94-.94-2.06-.94 2.06-2.06.94z\"/><path d=\"M17.41 7.96l-1.37-1.37c-.4-.4-.92-.59-1.43-.59-.52 0-1.04.2-1.43.59L10.3 9.45l-7.72 7.72c-.78.78-.78 2.05 0 2.83L4 21.41c.39.39.9.59 1.41.59.51 0 1.02-.2 1.41-.59l7.78-7.78 2.81-2.81c.8-.78.8-2.07 0-2.86zM5.41 20L4 18.59l7.72-7.72 1.47 1.35L5.41 20z\"/>\n",
              "  </svg>\n",
              "      </button>\n",
              "      \n",
              "  <style>\n",
              "    .colab-df-container {\n",
              "      display:flex;\n",
              "      flex-wrap:wrap;\n",
              "      gap: 12px;\n",
              "    }\n",
              "\n",
              "    .colab-df-convert {\n",
              "      background-color: #E8F0FE;\n",
              "      border: none;\n",
              "      border-radius: 50%;\n",
              "      cursor: pointer;\n",
              "      display: none;\n",
              "      fill: #1967D2;\n",
              "      height: 32px;\n",
              "      padding: 0 0 0 0;\n",
              "      width: 32px;\n",
              "    }\n",
              "\n",
              "    .colab-df-convert:hover {\n",
              "      background-color: #E2EBFA;\n",
              "      box-shadow: 0px 1px 2px rgba(60, 64, 67, 0.3), 0px 1px 3px 1px rgba(60, 64, 67, 0.15);\n",
              "      fill: #174EA6;\n",
              "    }\n",
              "\n",
              "    [theme=dark] .colab-df-convert {\n",
              "      background-color: #3B4455;\n",
              "      fill: #D2E3FC;\n",
              "    }\n",
              "\n",
              "    [theme=dark] .colab-df-convert:hover {\n",
              "      background-color: #434B5C;\n",
              "      box-shadow: 0px 1px 3px 1px rgba(0, 0, 0, 0.15);\n",
              "      filter: drop-shadow(0px 1px 2px rgba(0, 0, 0, 0.3));\n",
              "      fill: #FFFFFF;\n",
              "    }\n",
              "  </style>\n",
              "\n",
              "      <script>\n",
              "        const buttonEl =\n",
              "          document.querySelector('#df-fe57e70b-78e5-4188-88ec-f4c2c153ef6b button.colab-df-convert');\n",
              "        buttonEl.style.display =\n",
              "          google.colab.kernel.accessAllowed ? 'block' : 'none';\n",
              "\n",
              "        async function convertToInteractive(key) {\n",
              "          const element = document.querySelector('#df-fe57e70b-78e5-4188-88ec-f4c2c153ef6b');\n",
              "          const dataTable =\n",
              "            await google.colab.kernel.invokeFunction('convertToInteractive',\n",
              "                                                     [key], {});\n",
              "          if (!dataTable) return;\n",
              "\n",
              "          const docLinkHtml = 'Like what you see? Visit the ' +\n",
              "            '<a target=\"_blank\" href=https://colab.research.google.com/notebooks/data_table.ipynb>data table notebook</a>'\n",
              "            + ' to learn more about interactive tables.';\n",
              "          element.innerHTML = '';\n",
              "          dataTable['output_type'] = 'display_data';\n",
              "          await google.colab.output.renderOutput(dataTable, element);\n",
              "          const docLink = document.createElement('div');\n",
              "          docLink.innerHTML = docLinkHtml;\n",
              "          element.appendChild(docLink);\n",
              "        }\n",
              "      </script>\n",
              "    </div>\n",
              "  </div>\n",
              "  "
            ],
            "text/plain": [
              "                 weigh_grade          \n",
              "                       count       sum\n",
              "text_id category                      \n",
              "785     Food               5 -0.000927\n",
              "        Interior           3  0.758322\n",
              "        Price              1  0.000000\n",
              "        Service            7  0.607027\n",
              "        Whole              3  1.000000"
            ]
          },
          "metadata": {},
          "execution_count": 138
        }
      ]
    },
    {
      "cell_type": "markdown",
      "source": [
        "Поделим распределение получившихся оценок на три равных отрезка"
      ],
      "metadata": {
        "id": "t-bFqo8nK5Vx"
      }
    },
    {
      "cell_type": "code",
      "source": [
        "def get_cat_label(weigh_grade, count):\n",
        "  if count == 0:\n",
        "    return 'absence'\n",
        "  elif weigh_grade > 0.33:\n",
        "    return 'positive'\n",
        "  elif weigh_grade < -0.33:\n",
        "    return 'negative'\n",
        "  else:\n",
        "    return 'neutral'\n",
        "\n",
        "\n",
        "aggregated['result'] = aggregated.apply(lambda x: get_cat_label(x[('weigh_grade', 'sum')], x[('weigh_grade', 'count')]), axis=1)"
      ],
      "metadata": {
        "id": "8BCkIDi6Al_g"
      },
      "execution_count": 139,
      "outputs": []
    },
    {
      "cell_type": "code",
      "source": [
        "results = aggregated.result.to_dict()"
      ],
      "metadata": {
        "id": "aFGjKTZI8PSB"
      },
      "execution_count": 140,
      "outputs": []
    },
    {
      "cell_type": "code",
      "source": [
        "text_ids = list(set([ind[0] for ind in aggregated.index]))"
      ],
      "metadata": {
        "id": "PkBw0LCa8h0y"
      },
      "execution_count": 141,
      "outputs": []
    },
    {
      "cell_type": "code",
      "source": [
        "categories = ['Food', 'Interior', 'Price', 'Service', 'Whole']"
      ],
      "metadata": {
        "id": "O7RCpmJNFUKJ"
      },
      "execution_count": 142,
      "outputs": []
    },
    {
      "cell_type": "code",
      "source": [
        "with open('dev_pred_cats.txt', 'w') as f:\n",
        "  for text_id in  text_ids:\n",
        "    for cat in categories:\n",
        "      if (text_id, cat) in results:\n",
        "        print(text_id, cat, results[(text_id, cat)], sep=\"\\t\", file=f)\n",
        "      else:\n",
        "        print(text_id, cat, 'absence', sep=\"\\t\", file=f)"
      ],
      "metadata": {
        "id": "7lDNPcQMEEQ8"
      },
      "execution_count": 143,
      "outputs": []
    },
    {
      "cell_type": "code",
      "source": [
        ""
      ],
      "metadata": {
        "id": "EF7b6ZfJGNhM"
      },
      "execution_count": null,
      "outputs": []
    }
  ]
}